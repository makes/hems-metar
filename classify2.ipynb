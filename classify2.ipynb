{
 "cells": [
  {
   "cell_type": "code",
   "execution_count": 1,
   "metadata": {},
   "outputs": [],
   "source": [
    "import os\n",
    "import pandas as pd\n",
    "import sqlite3\n",
    "#import matplotlib.pyplot as plt\n",
    "from classify_hems import check_vfr\n",
    "from classify_hems import check_ifr\n",
    "\n",
    "import classify\n",
    "\n",
    "base_name = 'FH50'\n",
    "sect_names = ['FH50.base', 'FH50_1.1', 'FH50_1.2', 'FH50_1.3', 'FH50_1.4', 'FH50_1.5', 'FH50_1.6', 'FH50_1.7', 'FH50_1.8']\n",
    "dbname = \"db/hems-fh50.sqlite\"\n",
    "\n",
    "#sect_names = ['FH10.base', 'FH10.1', 'FH10.2', 'FH10.3', 'FH10.6', 'FH10.7', 'FH10.8']\n",
    "#dbname = \"hems-fh10.sqlite\""
   ]
  },
  {
   "cell_type": "code",
   "execution_count": 2,
   "metadata": {},
   "outputs": [],
   "source": [
    "sect_df = pd.read_csv('data/FH-base_sektorit.csv', sep=',')\n",
    "sect_df.set_index('Sector_no', inplace=True, drop=False)\n",
    "geo_df = pd.read_csv('data/Saahavaintoasemat.csv', sep=',', index_col='ICAO')"
   ]
  },
  {
   "cell_type": "code",
   "execution_count": 3,
   "metadata": {},
   "outputs": [],
   "source": [
    "con = sqlite3.connect(dbname)"
   ]
  },
  {
   "cell_type": "code",
   "execution_count": 4,
   "metadata": {},
   "outputs": [],
   "source": [
    "sect_df[['Sector_no', 'dep_dest', 'sect_wx', 'cld_ceiling', 'alt_open', 'alt_all']].to_sql('sect', con, if_exists='replace', index=False)"
   ]
  },
  {
   "cell_type": "code",
   "execution_count": 5,
   "metadata": {},
   "outputs": [],
   "source": [
    "vfr_allowing_classes = ['DAY HEMS VFR', 'SUNDOWN HEMS VFR', 'NIGHT HEMS VFR']\n",
    "ifr_allowing_classes = ['DAY HEMS IFR', 'DAY HEMS VFR RETURN NIGHT IFR', 'NIGHT HEMS IFR']\n",
    "icing_classes = ['DAY IFR ICING', 'NIGHT IFR ICING']"
   ]
  },
  {
   "cell_type": "code",
   "execution_count": 6,
   "metadata": {},
   "outputs": [
    {
     "name": "stdout",
     "output_type": "stream",
     "text": [
      "reading sector FH50.base\n",
      "classifying VFR for FH50.base\n",
      "creating month an hour columns\n",
      "creating VFR column\n",
      "building hourly summary for FH50.base\n",
      "reading sector FH50_1.1\n",
      "classifying VFR for FH50_1.1\n",
      "creating month an hour columns\n",
      "creating VFR column\n",
      "building hourly summary for FH50_1.1\n",
      "reading sector FH50_1.2\n",
      "classifying VFR for FH50_1.2\n",
      "creating month an hour columns\n",
      "creating VFR column\n",
      "building hourly summary for FH50_1.2\n",
      "reading sector FH50_1.3\n",
      "classifying VFR for FH50_1.3\n",
      "creating month an hour columns\n",
      "creating VFR column\n",
      "building hourly summary for FH50_1.3\n",
      "reading sector FH50_1.4\n",
      "classifying VFR for FH50_1.4\n",
      "creating month an hour columns\n",
      "creating VFR column\n",
      "building hourly summary for FH50_1.4\n",
      "reading sector FH50_1.5\n",
      "classifying VFR for FH50_1.5\n",
      "creating month an hour columns\n",
      "creating VFR column\n",
      "building hourly summary for FH50_1.5\n",
      "reading sector FH50_1.6\n",
      "classifying VFR for FH50_1.6\n",
      "creating month an hour columns\n",
      "creating VFR column\n",
      "building hourly summary for FH50_1.6\n",
      "reading sector FH50_1.7\n",
      "classifying VFR for FH50_1.7\n",
      "creating month an hour columns\n",
      "creating VFR column\n",
      "building hourly summary for FH50_1.7\n",
      "reading sector FH50_1.8\n",
      "classifying VFR for FH50_1.8\n",
      "creating month an hour columns\n",
      "creating VFR column\n",
      "building hourly summary for FH50_1.8\n"
     ]
    }
   ],
   "source": [
    "output_path=f'output/{base_name}.csv'\n",
    "if os.path.exists(output_path):\n",
    "    open(output_path, 'w').close()  # clear file\n",
    "\n",
    "for sect_name in sect_names:\n",
    "    print(f\"reading sector {sect_name}\")  # (< 1 min)\n",
    "    df = classify.read_sector_df(con, sect_name)\n",
    "    if df.empty:\n",
    "        print(f\"❌ WARNING: No data for sector {sect_name}. Skipping.\")\n",
    "        continue\n",
    "\n",
    "    icao_term = sect_df.loc[sect_name, 'dep_dest']\n",
    "    alt_open = sect_df.loc[sect_name, 'alt_open'].split(';')\n",
    "    alt_all = sect_df.loc[sect_name, 'alt_all'].split(';')\n",
    "    cld_ceiling = sect_df.loc[sect_name, 'cld_ceiling']\n",
    "\n",
    "    #print(f\"reading alts for {sect_name}\")  # (< 10 s)\n",
    "    #alts = alt_open\n",
    "    #alt_df = classify.read_alt_df(con, alts)\n",
    "    df.dropna(inplace=True)  # TODO don't drop all na?\n",
    "\n",
    "    print(f\"classifying VFR for {sect_name}\")  # (< 10 s)\n",
    "    df['vfr_class'] = df.apply(check_vfr, axis=1)\n",
    "    #print(f\"classifying IFR for {sect_name}\")  # (> 6 mins)\n",
    "    #df['ifr_class'] = df.apply(lambda row: check_ifr(row, alt_df, alts, cld_ceiling), axis=1)\n",
    "\n",
    "    print(\"creating month an hour columns\")\n",
    "    df['month'] = df.time.str.slice(5, 7).astype(int)\n",
    "    df['hour'] = df.time.str.slice(11, 13).astype(int)\n",
    "\n",
    "    print(\"creating VFR column\")\n",
    "    df['VFR'] = df.vfr_class.isin(vfr_allowing_classes).astype(int)\n",
    "    #print(\"creating IFR column\")\n",
    "    #df['IFR'] = df.ifr_class.isin(ifr_allowing_classes).astype(int) & (df.VFR == 0)\n",
    "    #print(\"creating ICING column\")\n",
    "    #df['NO FLY ICING'] = df.ifr_class.isin(icing_classes).astype(int) & (df.VFR == 0) & (df.IFR == 0)\n",
    "    #print(\"creating NO FLY column\")\n",
    "    #df['NO FLY'] = (df.VFR == 0) & (df.IFR == 0) & (df['NO FLY ICING'] == 0)\n",
    "\n",
    "    print(f\"building hourly summary for {sect_name}\")\n",
    "    #hourly = classify.make_hourly_csv(df, sect_name)\n",
    "    hourly = classify.make_hourly_csv_vfr_only(df, sect_name)\n",
    "\n",
    "    hourly.to_csv(output_path, mode='a', header=not os.path.exists(output_path))\n",
    "    #hourly.to_csv(f'output/canfly-{sect_name}.csv')\n",
    "\n",
    "con.close()"
   ]
  },
  {
   "cell_type": "code",
   "execution_count": null,
   "metadata": {},
   "outputs": [],
   "source": []
  }
 ],
 "metadata": {
  "interpreter": {
   "hash": "e2378863ffe1dcf4577d6ced90accd9caaf84e395cbb0f158c17fac025349c3a"
  },
  "kernelspec": {
   "display_name": "Python 3.10.1 ('hems')",
   "language": "python",
   "name": "python3"
  },
  "language_info": {
   "codemirror_mode": {
    "name": "ipython",
    "version": 3
   },
   "file_extension": ".py",
   "mimetype": "text/x-python",
   "name": "python",
   "nbconvert_exporter": "python",
   "pygments_lexer": "ipython3",
   "version": "3.10.1"
  },
  "orig_nbformat": 4
 },
 "nbformat": 4,
 "nbformat_minor": 2
}
