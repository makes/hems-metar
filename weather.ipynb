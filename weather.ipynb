{
 "cells": [
  {
   "cell_type": "code",
   "execution_count": 51,
   "metadata": {},
   "outputs": [],
   "source": [
    "import numpy as np\n",
    "import pandas as pd\n",
    "from datetime import datetime\n",
    "import pysolar.solar as solar\n",
    "import sqlite3\n",
    "from metar import Metar\n",
    "import metar_tools\n",
    "\n",
    "efhk_lat = 60.3183\n",
    "efhk_lon = 24.9497\n",
    "\n",
    "ilzq_lat = 60.6277\n",
    "ilzq_lon = 25.1934"
   ]
  },
  {
   "cell_type": "code",
   "execution_count": 52,
   "metadata": {},
   "outputs": [
    {
     "data": {
      "text/plain": [
       "DatetimeIndex(['2021-01-01 00:20:00', '2021-01-01 00:50:00',\n",
       "               '2021-01-01 01:20:00', '2021-01-01 01:50:00',\n",
       "               '2021-01-01 02:20:00', '2021-01-01 02:50:00',\n",
       "               '2021-01-01 03:20:00', '2021-01-01 03:50:00',\n",
       "               '2021-01-01 04:20:00', '2021-01-01 04:50:00',\n",
       "               ...\n",
       "               '2021-12-03 05:50:00', '2021-12-03 06:20:00',\n",
       "               '2021-12-03 06:50:00', '2021-12-03 07:20:00',\n",
       "               '2021-12-03 07:50:00', '2021-12-03 08:20:00',\n",
       "               '2021-12-03 08:50:00', '2021-12-03 09:20:00',\n",
       "               '2021-12-03 09:50:00', '2021-12-03 10:20:00'],\n",
       "              dtype='datetime64[ns]', name='time', length=16140, freq=None)"
      ]
     },
     "execution_count": 52,
     "metadata": {},
     "output_type": "execute_result"
    }
   ],
   "source": [
    "cols = ['ttime', 'content']\n",
    "efhk_metar = pd.read_csv('sample-data/EFHK_2021_METAR.csv', sep=';', usecols=cols)\n",
    "efhk_metar['time'] = pd.to_datetime(efhk_metar['ttime'])\n",
    "efhk_metar.set_index('time', inplace=True)\n",
    "\n",
    "efhk_metar.index"
   ]
  },
  {
   "cell_type": "code",
   "execution_count": 53,
   "metadata": {},
   "outputs": [
    {
     "data": {
      "text/html": [
       "<div>\n",
       "<style scoped>\n",
       "    .dataframe tbody tr th:only-of-type {\n",
       "        vertical-align: middle;\n",
       "    }\n",
       "\n",
       "    .dataframe tbody tr th {\n",
       "        vertical-align: top;\n",
       "    }\n",
       "\n",
       "    .dataframe thead th {\n",
       "        text-align: right;\n",
       "    }\n",
       "</style>\n",
       "<table border=\"1\" class=\"dataframe\">\n",
       "  <thead>\n",
       "    <tr style=\"text-align: right;\">\n",
       "      <th></th>\n",
       "      <th>ttime</th>\n",
       "      <th>content</th>\n",
       "    </tr>\n",
       "    <tr>\n",
       "      <th>time</th>\n",
       "      <th></th>\n",
       "      <th></th>\n",
       "    </tr>\n",
       "  </thead>\n",
       "  <tbody>\n",
       "    <tr>\n",
       "      <th>2021-01-01 00:00:00</th>\n",
       "      <td>2021-01-01 00:00:00</td>\n",
       "      <td>ILZQ 010000Z AUTO 23003KT 2300 BR ////// 00/00...</td>\n",
       "    </tr>\n",
       "    <tr>\n",
       "      <th>2021-01-01 00:10:00</th>\n",
       "      <td>2021-01-01 00:10:00</td>\n",
       "      <td>ILZQ 010010Z AUTO 23003KT 2100 BR ////// M00/M...</td>\n",
       "    </tr>\n",
       "    <tr>\n",
       "      <th>2021-01-01 00:20:00</th>\n",
       "      <td>2021-01-01 00:20:00</td>\n",
       "      <td>ILZQ 010020Z AUTO 23003KT 1800 BR ////// M00/M...</td>\n",
       "    </tr>\n",
       "    <tr>\n",
       "      <th>2021-01-01 00:40:00</th>\n",
       "      <td>2021-01-01 00:40:00</td>\n",
       "      <td>ILZQ 010040Z AUTO 22003KT 1700 BR ////// M00/M...</td>\n",
       "    </tr>\n",
       "    <tr>\n",
       "      <th>2021-01-01 00:50:00</th>\n",
       "      <td>2021-01-01 00:50:00</td>\n",
       "      <td>ILZQ 010050Z AUTO 23003KT 1800 BR ////// M00/M...</td>\n",
       "    </tr>\n",
       "    <tr>\n",
       "      <th>...</th>\n",
       "      <td>...</td>\n",
       "      <td>...</td>\n",
       "    </tr>\n",
       "    <tr>\n",
       "      <th>2021-12-03 16:40:00</th>\n",
       "      <td>2021-12-03 16:40:00</td>\n",
       "      <td>ILZQ 031640Z AUTO 35005KT 4200 -SN OVC020 M08/...</td>\n",
       "    </tr>\n",
       "    <tr>\n",
       "      <th>2021-12-03 16:50:00</th>\n",
       "      <td>2021-12-03 16:50:00</td>\n",
       "      <td>ILZQ 031650Z AUTO 35004KT 4700 -SN OVC021 M08/...</td>\n",
       "    </tr>\n",
       "    <tr>\n",
       "      <th>2021-12-03 17:00:00</th>\n",
       "      <td>2021-12-03 17:00:00</td>\n",
       "      <td>ILZQ 031700Z AUTO 36004KT 5000 -SN OVC030 M08/...</td>\n",
       "    </tr>\n",
       "    <tr>\n",
       "      <th>2021-12-03 17:10:00</th>\n",
       "      <td>2021-12-03 17:10:00</td>\n",
       "      <td>ILZQ 031710Z AUTO 35004KT 5000 -SN OVC029 M08/...</td>\n",
       "    </tr>\n",
       "    <tr>\n",
       "      <th>2021-12-03 17:20:00</th>\n",
       "      <td>2021-12-03 17:20:00</td>\n",
       "      <td>ILZQ 031720Z AUTO 35004KT 2600 -SN OVC026 M08/...</td>\n",
       "    </tr>\n",
       "  </tbody>\n",
       "</table>\n",
       "<p>45268 rows × 2 columns</p>\n",
       "</div>"
      ],
      "text/plain": [
       "                                   ttime  \\\n",
       "time                                       \n",
       "2021-01-01 00:00:00  2021-01-01 00:00:00   \n",
       "2021-01-01 00:10:00  2021-01-01 00:10:00   \n",
       "2021-01-01 00:20:00  2021-01-01 00:20:00   \n",
       "2021-01-01 00:40:00  2021-01-01 00:40:00   \n",
       "2021-01-01 00:50:00  2021-01-01 00:50:00   \n",
       "...                                  ...   \n",
       "2021-12-03 16:40:00  2021-12-03 16:40:00   \n",
       "2021-12-03 16:50:00  2021-12-03 16:50:00   \n",
       "2021-12-03 17:00:00  2021-12-03 17:00:00   \n",
       "2021-12-03 17:10:00  2021-12-03 17:10:00   \n",
       "2021-12-03 17:20:00  2021-12-03 17:20:00   \n",
       "\n",
       "                                                               content  \n",
       "time                                                                    \n",
       "2021-01-01 00:00:00  ILZQ 010000Z AUTO 23003KT 2300 BR ////// 00/00...  \n",
       "2021-01-01 00:10:00  ILZQ 010010Z AUTO 23003KT 2100 BR ////// M00/M...  \n",
       "2021-01-01 00:20:00  ILZQ 010020Z AUTO 23003KT 1800 BR ////// M00/M...  \n",
       "2021-01-01 00:40:00  ILZQ 010040Z AUTO 22003KT 1700 BR ////// M00/M...  \n",
       "2021-01-01 00:50:00  ILZQ 010050Z AUTO 23003KT 1800 BR ////// M00/M...  \n",
       "...                                                                ...  \n",
       "2021-12-03 16:40:00  ILZQ 031640Z AUTO 35005KT 4200 -SN OVC020 M08/...  \n",
       "2021-12-03 16:50:00  ILZQ 031650Z AUTO 35004KT 4700 -SN OVC021 M08/...  \n",
       "2021-12-03 17:00:00  ILZQ 031700Z AUTO 36004KT 5000 -SN OVC030 M08/...  \n",
       "2021-12-03 17:10:00  ILZQ 031710Z AUTO 35004KT 5000 -SN OVC029 M08/...  \n",
       "2021-12-03 17:20:00  ILZQ 031720Z AUTO 35004KT 2600 -SN OVC026 M08/...  \n",
       "\n",
       "[45268 rows x 2 columns]"
      ]
     },
     "execution_count": 53,
     "metadata": {},
     "output_type": "execute_result"
    }
   ],
   "source": [
    "ilzq_metar = pd.read_csv('data/ILZQ_2021_METAR.dat', sep=';', usecols=cols)\n",
    "ilzq_metar['time'] = pd.to_datetime(ilzq_metar['ttime'])\n",
    "ilzq_metar.set_index('time', inplace=True)\n",
    "ilzq_metar"
   ]
  },
  {
   "cell_type": "code",
   "execution_count": 56,
   "metadata": {},
   "outputs": [
    {
     "name": "stdout",
     "output_type": "stream",
     "text": [
      "station: EFHK\n",
      "type: routine report, cycle 8 (automatic report)\n",
      "time: Sat Jan  1 08:20:00 2022\n",
      "temperature: 0.0 C\n",
      "dew point: 0.0 C\n",
      "wind: ESE at 2 knots\n",
      "visibility: 800 meters\n",
      "visual range: on runway 04L, greater than 2000 meters; on runway 15, greater than 2000 meters; on runway 22L, 2000 meters; on runway 22R, greater than 2000 meters\n",
      "pressure: 1011.0 mb\n",
      "weather: fog\n",
      "sky: scattered clouds at 400 feet\n",
      "     broken clouds at 1300 feet\n",
      "METAR: EFHK 010820Z 11002KT 0800 R04L/P2000N R15/P2000N R22L/2000N R22R/P2000N FG SCT004 BKN013 00/00 Q1011 BECMG 2000 BR=\n"
     ]
    }
   ],
   "source": [
    "metar = Metar.Metar(efhk_metar.iloc[16, 1])\n",
    "print(metar.string())"
   ]
  },
  {
   "cell_type": "code",
   "execution_count": 57,
   "metadata": {},
   "outputs": [
    {
     "data": {
      "text/plain": [
       "2000.0"
      ]
     },
     "execution_count": 57,
     "metadata": {},
     "output_type": "execute_result"
    }
   ],
   "source": [
    "#metar.runway[0][1].value()\n",
    "metar.runway[0][1].value()"
   ]
  },
  {
   "cell_type": "code",
   "execution_count": 58,
   "metadata": {},
   "outputs": [
    {
     "data": {
      "text/plain": [
       "[('SCT', <metar.Datatypes.distance at 0x1f0ff38fca0>, None),\n",
       " ('BKN', <metar.Datatypes.distance at 0x1f085808070>, None)]"
      ]
     },
     "execution_count": 58,
     "metadata": {},
     "output_type": "execute_result"
    }
   ],
   "source": [
    "metar.sky"
   ]
  },
  {
   "cell_type": "code",
   "execution_count": 60,
   "metadata": {},
   "outputs": [
    {
     "name": "stdout",
     "output_type": "stream",
     "text": [
      "3.2038041011444016\n"
     ]
    }
   ],
   "source": [
    "dt = datetime.fromisoformat(efhk_metar.iloc[16, 0] + '+00:00')\n",
    "print(solar.get_altitude(efhk_lat, efhk_lon, dt))"
   ]
  },
  {
   "cell_type": "code",
   "execution_count": 61,
   "metadata": {},
   "outputs": [
    {
     "data": {
      "text/plain": [
       "0.0"
      ]
     },
     "execution_count": 61,
     "metadata": {},
     "output_type": "execute_result"
    }
   ],
   "source": [
    "temp = metar.temp.value()\n",
    "temp"
   ]
  },
  {
   "cell_type": "code",
   "execution_count": 62,
   "metadata": {},
   "outputs": [
    {
     "data": {
      "text/plain": [
       "800"
      ]
     },
     "execution_count": 62,
     "metadata": {},
     "output_type": "execute_result"
    }
   ],
   "source": [
    "vis = int(metar.vis.value())\n",
    "vis"
   ]
  },
  {
   "cell_type": "code",
   "execution_count": 63,
   "metadata": {},
   "outputs": [
    {
     "data": {
      "text/plain": [
       "2000"
      ]
     },
     "execution_count": 63,
     "metadata": {},
     "output_type": "execute_result"
    }
   ],
   "source": [
    "metar_tools.get_rvr(metar)"
   ]
  },
  {
   "cell_type": "code",
   "execution_count": 64,
   "metadata": {},
   "outputs": [
    {
     "data": {
      "text/plain": [
       "1300"
      ]
     },
     "execution_count": 64,
     "metadata": {},
     "output_type": "execute_result"
    }
   ],
   "source": [
    "metar_tools.get_ceil(metar)"
   ]
  },
  {
   "cell_type": "code",
   "execution_count": 65,
   "metadata": {},
   "outputs": [
    {
     "data": {
      "text/plain": [
       "400"
      ]
     },
     "execution_count": 65,
     "metadata": {},
     "output_type": "execute_result"
    }
   ],
   "source": [
    "metar_tools.get_base(metar, metar_tools.get_ceil(metar))"
   ]
  },
  {
   "cell_type": "code",
   "execution_count": 67,
   "metadata": {},
   "outputs": [
    {
     "name": "stdout",
     "output_type": "stream",
     "text": [
      "station: ILZQ\n",
      "type: routine report (automatic report)\n",
      "time: Sat Jan  1 00:00:00 2022\n",
      "temperature: 0.0 C\n",
      "dew point: 0.0 C\n",
      "wind: SW at 3 knots\n",
      "visibility: 2300 meters\n",
      "pressure: 1009.0 mb\n",
      "weather: mist; ,  and \n",
      "METAR: ILZQ 010000Z AUTO 23003KT 2300 BR ////// 00/00 Q1009=\n"
     ]
    }
   ],
   "source": [
    "row = 0 #42\n",
    "ilzq_obs = Metar.Metar(ilzq_metar.iloc[row, 1])\n",
    "print(ilzq_obs.string())"
   ]
  },
  {
   "cell_type": "code",
   "execution_count": 68,
   "metadata": {},
   "outputs": [
    {
     "name": "stdout",
     "output_type": "stream",
     "text": [
      "[]\n"
     ]
    }
   ],
   "source": [
    "print(ilzq_obs.sky)"
   ]
  },
  {
   "cell_type": "code",
   "execution_count": 69,
   "metadata": {},
   "outputs": [
    {
     "data": {
      "text/plain": [
       "9999"
      ]
     },
     "execution_count": 69,
     "metadata": {},
     "output_type": "execute_result"
    }
   ],
   "source": [
    "metar_tools.get_ceil(ilzq_obs)"
   ]
  },
  {
   "cell_type": "code",
   "execution_count": 70,
   "metadata": {},
   "outputs": [
    {
     "data": {
      "text/plain": [
       "9999"
      ]
     },
     "execution_count": 70,
     "metadata": {},
     "output_type": "execute_result"
    }
   ],
   "source": [
    "metar_tools.get_base(ilzq_obs, metar_tools.get_ceil(ilzq_obs))"
   ]
  },
  {
   "cell_type": "code",
   "execution_count": 71,
   "metadata": {},
   "outputs": [
    {
     "data": {
      "text/plain": [
       "True"
      ]
     },
     "execution_count": 71,
     "metadata": {},
     "output_type": "execute_result"
    }
   ],
   "source": [
    "metar_tools.is_night('2021-01-01 06:10:00', efhk_lat, efhk_lon)"
   ]
  },
  {
   "cell_type": "code",
   "execution_count": 72,
   "metadata": {},
   "outputs": [],
   "source": [
    "t = datetime.strptime('2021-01-01 06:10:00', '%Y-%m-%d %H:%M:%S')"
   ]
  },
  {
   "cell_type": "code",
   "execution_count": 73,
   "metadata": {},
   "outputs": [],
   "source": [
    "def extract_metar(data: np.ndarray, lat: float, lon: float):\n",
    "    time_str = data[0]\n",
    "    metar_str = data[1]\n",
    "    obs = Metar.Metar(metar_str, strict=False)\n",
    "    temp = metar_tools.get_temp(obs)\n",
    "    vis = metar_tools.get_vis(obs)\n",
    "    rvr = metar_tools.get_rvr(obs)\n",
    "    ceil = metar_tools.get_ceil(obs)\n",
    "    base = metar_tools.get_base(metar, ceil)\n",
    "    night = metar_tools.is_night(time_str, efhk_lat, efhk_lon)\n",
    "    return (time_str, temp, vis, rvr, ceil, base, night)"
   ]
  },
  {
   "cell_type": "code",
   "execution_count": 74,
   "metadata": {},
   "outputs": [
    {
     "name": "stderr",
     "output_type": "stream",
     "text": [
      "C:\\Users\\makes\\miniconda3\\envs\\hems\\lib\\site-packages\\metar\\Metar.py:502: RuntimeWarning: Unparsed groups in body '400S' while processing 'EFHK 010250Z 32002KT 0900 400S R04L/1300D R15/1200U R22L/0650D R22R/1600U FG BKN002 M12/M13 Q0994 BECMG 2000 BR='\n",
      "  warnings.warn(message, RuntimeWarning)\n",
      "C:\\Users\\makes\\miniconda3\\envs\\hems\\lib\\site-packages\\metar\\Metar.py:502: RuntimeWarning: Unparsed groups in body 'BRFG -SHRA BKN002 FEW020CB' while processing 'EFHK 190350Z 36005KT 0800 R04L/P2000N R15/1500D R22L/1700D R22R/1800D -RA FG OVC002 12/12 Q0999 TEMPO 1200 BRFG -SHRA BKN002 FEW020CB='\n",
      "  warnings.warn(message, RuntimeWarning)\n",
      "C:\\Users\\makes\\miniconda3\\envs\\hems\\lib\\site-packages\\metar\\Metar.py:502: RuntimeWarning: Unparsed groups in body 'NSW' while processing 'EFHK 261120Z 31004KT 230V350 9999 TS FEW025 FEW030CB 23/17 Q1011 BECMG FEW030 NSW='\n",
      "  warnings.warn(message, RuntimeWarning)\n",
      "C:\\Users\\makes\\miniconda3\\envs\\hems\\lib\\site-packages\\metar\\Metar.py:502: RuntimeWarning: Unparsed groups in body 'WS22L' while processing 'EFHK 021150Z 28014KT 250V320 9999 SCT045 15/04 Q1012 WS22L NOSIG='\n",
      "  warnings.warn(message, RuntimeWarning)\n",
      "C:\\Users\\makes\\miniconda3\\envs\\hems\\lib\\site-packages\\metar\\Metar.py:502: RuntimeWarning: Unparsed groups in body 'WS RWY 22L' while processing 'EFHK 251250Z 23013KT 9999 BKN029 10/04 Q1013 WS RWY 22L NOSIG='\n",
      "  warnings.warn(message, RuntimeWarning)\n"
     ]
    }
   ],
   "source": [
    "a = [extract_metar(d, lat=efhk_lat, lon=efhk_lon) for d in zip(efhk_metar.ttime, efhk_metar.content)]"
   ]
  },
  {
   "cell_type": "code",
   "execution_count": 75,
   "metadata": {},
   "outputs": [],
   "source": [
    "b = [extract_metar(d, lat=ilzq_lat, lon=ilzq_lon) for d in zip(ilzq_metar.ttime, ilzq_metar.content)]"
   ]
  },
  {
   "cell_type": "code",
   "execution_count": 83,
   "metadata": {},
   "outputs": [
    {
     "data": {
      "text/html": [
       "<div>\n",
       "<style scoped>\n",
       "    .dataframe tbody tr th:only-of-type {\n",
       "        vertical-align: middle;\n",
       "    }\n",
       "\n",
       "    .dataframe tbody tr th {\n",
       "        vertical-align: top;\n",
       "    }\n",
       "\n",
       "    .dataframe thead th {\n",
       "        text-align: right;\n",
       "    }\n",
       "</style>\n",
       "<table border=\"1\" class=\"dataframe\">\n",
       "  <thead>\n",
       "    <tr style=\"text-align: right;\">\n",
       "      <th></th>\n",
       "      <th>temp</th>\n",
       "      <th>vis</th>\n",
       "      <th>rvr</th>\n",
       "      <th>ceil</th>\n",
       "      <th>base</th>\n",
       "      <th>night</th>\n",
       "    </tr>\n",
       "  </thead>\n",
       "  <tbody>\n",
       "    <tr>\n",
       "      <th>0</th>\n",
       "      <td>0</td>\n",
       "      <td>2300</td>\n",
       "      <td>9999</td>\n",
       "      <td>9999</td>\n",
       "      <td>400</td>\n",
       "      <td>True</td>\n",
       "    </tr>\n",
       "    <tr>\n",
       "      <th>1</th>\n",
       "      <td>0</td>\n",
       "      <td>2100</td>\n",
       "      <td>9999</td>\n",
       "      <td>9999</td>\n",
       "      <td>400</td>\n",
       "      <td>True</td>\n",
       "    </tr>\n",
       "    <tr>\n",
       "      <th>2</th>\n",
       "      <td>0</td>\n",
       "      <td>1800</td>\n",
       "      <td>9999</td>\n",
       "      <td>9999</td>\n",
       "      <td>400</td>\n",
       "      <td>True</td>\n",
       "    </tr>\n",
       "    <tr>\n",
       "      <th>3</th>\n",
       "      <td>0</td>\n",
       "      <td>1700</td>\n",
       "      <td>9999</td>\n",
       "      <td>9999</td>\n",
       "      <td>400</td>\n",
       "      <td>True</td>\n",
       "    </tr>\n",
       "    <tr>\n",
       "      <th>4</th>\n",
       "      <td>0</td>\n",
       "      <td>1800</td>\n",
       "      <td>9999</td>\n",
       "      <td>9999</td>\n",
       "      <td>400</td>\n",
       "      <td>True</td>\n",
       "    </tr>\n",
       "    <tr>\n",
       "      <th>...</th>\n",
       "      <td>...</td>\n",
       "      <td>...</td>\n",
       "      <td>...</td>\n",
       "      <td>...</td>\n",
       "      <td>...</td>\n",
       "      <td>...</td>\n",
       "    </tr>\n",
       "    <tr>\n",
       "      <th>45263</th>\n",
       "      <td>-8</td>\n",
       "      <td>4200</td>\n",
       "      <td>9999</td>\n",
       "      <td>2000</td>\n",
       "      <td>400</td>\n",
       "      <td>True</td>\n",
       "    </tr>\n",
       "    <tr>\n",
       "      <th>45264</th>\n",
       "      <td>-8</td>\n",
       "      <td>4700</td>\n",
       "      <td>9999</td>\n",
       "      <td>2100</td>\n",
       "      <td>400</td>\n",
       "      <td>True</td>\n",
       "    </tr>\n",
       "    <tr>\n",
       "      <th>45265</th>\n",
       "      <td>-8</td>\n",
       "      <td>5000</td>\n",
       "      <td>9999</td>\n",
       "      <td>3000</td>\n",
       "      <td>400</td>\n",
       "      <td>True</td>\n",
       "    </tr>\n",
       "    <tr>\n",
       "      <th>45266</th>\n",
       "      <td>-8</td>\n",
       "      <td>5000</td>\n",
       "      <td>9999</td>\n",
       "      <td>2900</td>\n",
       "      <td>400</td>\n",
       "      <td>True</td>\n",
       "    </tr>\n",
       "    <tr>\n",
       "      <th>45267</th>\n",
       "      <td>-8</td>\n",
       "      <td>2600</td>\n",
       "      <td>9999</td>\n",
       "      <td>2600</td>\n",
       "      <td>400</td>\n",
       "      <td>True</td>\n",
       "    </tr>\n",
       "  </tbody>\n",
       "</table>\n",
       "<p>45268 rows × 6 columns</p>\n",
       "</div>"
      ],
      "text/plain": [
       "       temp   vis   rvr  ceil  base  night\n",
       "0         0  2300  9999  9999   400   True\n",
       "1         0  2100  9999  9999   400   True\n",
       "2         0  1800  9999  9999   400   True\n",
       "3         0  1700  9999  9999   400   True\n",
       "4         0  1800  9999  9999   400   True\n",
       "...     ...   ...   ...   ...   ...    ...\n",
       "45263    -8  4200  9999  2000   400   True\n",
       "45264    -8  4700  9999  2100   400   True\n",
       "45265    -8  5000  9999  3000   400   True\n",
       "45266    -8  5000  9999  2900   400   True\n",
       "45267    -8  2600  9999  2600   400   True\n",
       "\n",
       "[45268 rows x 6 columns]"
      ]
     },
     "execution_count": 83,
     "metadata": {},
     "output_type": "execute_result"
    }
   ],
   "source": [
    "pd.DataFrame(b, columns=['temp', 'vis', 'rvr', 'ceil', 'base', 'night'])"
   ]
  },
  {
   "cell_type": "code",
   "execution_count": 81,
   "metadata": {},
   "outputs": [],
   "source": [
    "efhk_metar10 = efhk_metar.asfreq('10min', method='ffill')"
   ]
  },
  {
   "cell_type": "code",
   "execution_count": 82,
   "metadata": {},
   "outputs": [
    {
     "data": {
      "text/html": [
       "<div>\n",
       "<style scoped>\n",
       "    .dataframe tbody tr th:only-of-type {\n",
       "        vertical-align: middle;\n",
       "    }\n",
       "\n",
       "    .dataframe tbody tr th {\n",
       "        vertical-align: top;\n",
       "    }\n",
       "\n",
       "    .dataframe thead th {\n",
       "        text-align: right;\n",
       "    }\n",
       "</style>\n",
       "<table border=\"1\" class=\"dataframe\">\n",
       "  <thead>\n",
       "    <tr style=\"text-align: right;\">\n",
       "      <th></th>\n",
       "      <th>ttime</th>\n",
       "      <th>content</th>\n",
       "    </tr>\n",
       "    <tr>\n",
       "      <th>time</th>\n",
       "      <th></th>\n",
       "      <th></th>\n",
       "    </tr>\n",
       "  </thead>\n",
       "  <tbody>\n",
       "    <tr>\n",
       "      <th>2021-01-01 00:20:00</th>\n",
       "      <td>2021-01-01 00:20:00</td>\n",
       "      <td>EFHK 010020Z 21002KT 0700 R04L/P2000N R15/1400...</td>\n",
       "    </tr>\n",
       "    <tr>\n",
       "      <th>2021-01-01 00:30:00</th>\n",
       "      <td>2021-01-01 00:20:00</td>\n",
       "      <td>EFHK 010020Z 21002KT 0700 R04L/P2000N R15/1400...</td>\n",
       "    </tr>\n",
       "    <tr>\n",
       "      <th>2021-01-01 00:40:00</th>\n",
       "      <td>2021-01-01 00:20:00</td>\n",
       "      <td>EFHK 010020Z 21002KT 0700 R04L/P2000N R15/1400...</td>\n",
       "    </tr>\n",
       "    <tr>\n",
       "      <th>2021-01-01 00:50:00</th>\n",
       "      <td>2021-01-01 00:50:00</td>\n",
       "      <td>EFHK 010050Z 20002KT 1400 R04L/P2000N R15/P200...</td>\n",
       "    </tr>\n",
       "    <tr>\n",
       "      <th>2021-01-01 01:00:00</th>\n",
       "      <td>2021-01-01 00:50:00</td>\n",
       "      <td>EFHK 010050Z 20002KT 1400 R04L/P2000N R15/P200...</td>\n",
       "    </tr>\n",
       "    <tr>\n",
       "      <th>2021-01-01 01:10:00</th>\n",
       "      <td>2021-01-01 00:50:00</td>\n",
       "      <td>EFHK 010050Z 20002KT 1400 R04L/P2000N R15/P200...</td>\n",
       "    </tr>\n",
       "    <tr>\n",
       "      <th>2021-01-01 01:20:00</th>\n",
       "      <td>2021-01-01 01:20:00</td>\n",
       "      <td>EFHK 010120Z 00000KT 2500 BR BKN003 M00/M00 Q1...</td>\n",
       "    </tr>\n",
       "    <tr>\n",
       "      <th>2021-01-01 01:30:00</th>\n",
       "      <td>2021-01-01 01:20:00</td>\n",
       "      <td>EFHK 010120Z 00000KT 2500 BR BKN003 M00/M00 Q1...</td>\n",
       "    </tr>\n",
       "    <tr>\n",
       "      <th>2021-01-01 01:40:00</th>\n",
       "      <td>2021-01-01 01:20:00</td>\n",
       "      <td>EFHK 010120Z 00000KT 2500 BR BKN003 M00/M00 Q1...</td>\n",
       "    </tr>\n",
       "    <tr>\n",
       "      <th>2021-01-01 01:50:00</th>\n",
       "      <td>2021-01-01 01:50:00</td>\n",
       "      <td>EFHK 010150Z VRB01KT 2500 BR BKN002 M00/M00 Q1...</td>\n",
       "    </tr>\n",
       "  </tbody>\n",
       "</table>\n",
       "</div>"
      ],
      "text/plain": [
       "                                   ttime  \\\n",
       "time                                       \n",
       "2021-01-01 00:20:00  2021-01-01 00:20:00   \n",
       "2021-01-01 00:30:00  2021-01-01 00:20:00   \n",
       "2021-01-01 00:40:00  2021-01-01 00:20:00   \n",
       "2021-01-01 00:50:00  2021-01-01 00:50:00   \n",
       "2021-01-01 01:00:00  2021-01-01 00:50:00   \n",
       "2021-01-01 01:10:00  2021-01-01 00:50:00   \n",
       "2021-01-01 01:20:00  2021-01-01 01:20:00   \n",
       "2021-01-01 01:30:00  2021-01-01 01:20:00   \n",
       "2021-01-01 01:40:00  2021-01-01 01:20:00   \n",
       "2021-01-01 01:50:00  2021-01-01 01:50:00   \n",
       "\n",
       "                                                               content  \n",
       "time                                                                    \n",
       "2021-01-01 00:20:00  EFHK 010020Z 21002KT 0700 R04L/P2000N R15/1400...  \n",
       "2021-01-01 00:30:00  EFHK 010020Z 21002KT 0700 R04L/P2000N R15/1400...  \n",
       "2021-01-01 00:40:00  EFHK 010020Z 21002KT 0700 R04L/P2000N R15/1400...  \n",
       "2021-01-01 00:50:00  EFHK 010050Z 20002KT 1400 R04L/P2000N R15/P200...  \n",
       "2021-01-01 01:00:00  EFHK 010050Z 20002KT 1400 R04L/P2000N R15/P200...  \n",
       "2021-01-01 01:10:00  EFHK 010050Z 20002KT 1400 R04L/P2000N R15/P200...  \n",
       "2021-01-01 01:20:00  EFHK 010120Z 00000KT 2500 BR BKN003 M00/M00 Q1...  \n",
       "2021-01-01 01:30:00  EFHK 010120Z 00000KT 2500 BR BKN003 M00/M00 Q1...  \n",
       "2021-01-01 01:40:00  EFHK 010120Z 00000KT 2500 BR BKN003 M00/M00 Q1...  \n",
       "2021-01-01 01:50:00  EFHK 010150Z VRB01KT 2500 BR BKN002 M00/M00 Q1...  "
      ]
     },
     "execution_count": 82,
     "metadata": {},
     "output_type": "execute_result"
    }
   ],
   "source": [
    "efhk_metar10.iloc[:10,:]"
   ]
  },
  {
   "cell_type": "code",
   "execution_count": null,
   "metadata": {},
   "outputs": [],
   "source": []
  },
  {
   "cell_type": "code",
   "execution_count": null,
   "metadata": {},
   "outputs": [],
   "source": []
  }
 ],
 "metadata": {
  "interpreter": {
   "hash": "e2378863ffe1dcf4577d6ced90accd9caaf84e395cbb0f158c17fac025349c3a"
  },
  "kernelspec": {
   "display_name": "Python 3.10.1 64-bit ('hems': conda)",
   "language": "python",
   "name": "python3"
  },
  "language_info": {
   "codemirror_mode": {
    "name": "ipython",
    "version": 3
   },
   "file_extension": ".py",
   "mimetype": "text/x-python",
   "name": "python",
   "nbconvert_exporter": "python",
   "pygments_lexer": "ipython3",
   "version": "3.10.1"
  },
  "orig_nbformat": 4
 },
 "nbformat": 4,
 "nbformat_minor": 2
}
