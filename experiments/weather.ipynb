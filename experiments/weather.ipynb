{
 "cells": [
  {
   "cell_type": "code",
   "execution_count": 1,
   "metadata": {},
   "outputs": [],
   "source": [
    "import numpy as np\n",
    "import pandas as pd\n",
    "from datetime import datetime\n",
    "import pysolar.solar as solar\n",
    "import sqlite3\n",
    "from metar import Metar\n",
    "from metar_taf_parser.parser.parser import TAFParser\n",
    "import metar_tools\n",
    "import taf_tools\n",
    "import misc_tools\n",
    "\n",
    "efhk_lat = 60.3183\n",
    "efhk_lon = 24.9497\n",
    "\n",
    "ilzq_lat = 60.6277\n",
    "ilzq_lon = 25.1934"
   ]
  },
  {
   "cell_type": "code",
   "execution_count": 2,
   "metadata": {},
   "outputs": [
    {
     "data": {
      "text/plain": [
       "DatetimeIndex(['2021-01-01 00:20:00', '2021-01-01 00:50:00',\n",
       "               '2021-01-01 01:20:00', '2021-01-01 01:50:00',\n",
       "               '2021-01-01 02:20:00', '2021-01-01 02:50:00',\n",
       "               '2021-01-01 03:20:00', '2021-01-01 03:50:00',\n",
       "               '2021-01-01 04:20:00', '2021-01-01 04:50:00',\n",
       "               ...\n",
       "               '2021-12-03 05:50:00', '2021-12-03 06:20:00',\n",
       "               '2021-12-03 06:50:00', '2021-12-03 07:20:00',\n",
       "               '2021-12-03 07:50:00', '2021-12-03 08:20:00',\n",
       "               '2021-12-03 08:50:00', '2021-12-03 09:20:00',\n",
       "               '2021-12-03 09:50:00', '2021-12-03 10:20:00'],\n",
       "              dtype='datetime64[ns]', name='time', length=16140, freq=None)"
      ]
     },
     "execution_count": 2,
     "metadata": {},
     "output_type": "execute_result"
    }
   ],
   "source": [
    "cols = ['ttime', 'content']\n",
    "efhk_metar = pd.read_csv('sample-data/EFHK_2021_METAR.csv', sep=';', usecols=cols)\n",
    "efhk_metar['time'] = pd.to_datetime(efhk_metar['ttime'])\n",
    "efhk_metar.set_index('time', inplace=True)\n",
    "\n",
    "efhk_metar.index"
   ]
  },
  {
   "cell_type": "code",
   "execution_count": 3,
   "metadata": {},
   "outputs": [
    {
     "data": {
      "text/html": [
       "<div>\n",
       "<style scoped>\n",
       "    .dataframe tbody tr th:only-of-type {\n",
       "        vertical-align: middle;\n",
       "    }\n",
       "\n",
       "    .dataframe tbody tr th {\n",
       "        vertical-align: top;\n",
       "    }\n",
       "\n",
       "    .dataframe thead th {\n",
       "        text-align: right;\n",
       "    }\n",
       "</style>\n",
       "<table border=\"1\" class=\"dataframe\">\n",
       "  <thead>\n",
       "    <tr style=\"text-align: right;\">\n",
       "      <th></th>\n",
       "      <th>ttime</th>\n",
       "      <th>content</th>\n",
       "    </tr>\n",
       "    <tr>\n",
       "      <th>time</th>\n",
       "      <th></th>\n",
       "      <th></th>\n",
       "    </tr>\n",
       "  </thead>\n",
       "  <tbody>\n",
       "    <tr>\n",
       "      <th>2021-12-08 08:20:00</th>\n",
       "      <td>2021-12-08 08:00:00</td>\n",
       "      <td>EFHK 080659Z 0806/0906 32004KT 9999 FEW002 PRO...</td>\n",
       "    </tr>\n",
       "    <tr>\n",
       "      <th>2021-12-08 08:30:00</th>\n",
       "      <td>2021-12-08 08:00:00</td>\n",
       "      <td>EFHK 080659Z 0806/0906 32004KT 9999 FEW002 PRO...</td>\n",
       "    </tr>\n",
       "    <tr>\n",
       "      <th>2021-12-08 08:40:00</th>\n",
       "      <td>2021-12-08 08:00:00</td>\n",
       "      <td>EFHK 080659Z 0806/0906 32004KT 9999 FEW002 PRO...</td>\n",
       "    </tr>\n",
       "    <tr>\n",
       "      <th>2021-12-08 08:50:00</th>\n",
       "      <td>2021-12-08 08:00:00</td>\n",
       "      <td>EFHK 080659Z 0806/0906 32004KT 9999 FEW002 PRO...</td>\n",
       "    </tr>\n",
       "    <tr>\n",
       "      <th>2021-12-08 09:00:00</th>\n",
       "      <td>2021-12-08 09:00:00</td>\n",
       "      <td>EFHK 080838Z 0809/0909 32003KT 9999 FEW002 TEM...</td>\n",
       "    </tr>\n",
       "    <tr>\n",
       "      <th>2021-12-08 09:10:00</th>\n",
       "      <td>2021-12-08 09:00:00</td>\n",
       "      <td>EFHK 080838Z 0809/0909 32003KT 9999 FEW002 TEM...</td>\n",
       "    </tr>\n",
       "    <tr>\n",
       "      <th>2021-12-08 09:20:00</th>\n",
       "      <td>2021-12-08 09:00:00</td>\n",
       "      <td>EFHK 080838Z 0809/0909 32003KT 9999 FEW002 TEM...</td>\n",
       "    </tr>\n",
       "    <tr>\n",
       "      <th>2021-12-08 09:30:00</th>\n",
       "      <td>2021-12-08 09:00:00</td>\n",
       "      <td>EFHK 080838Z 0809/0909 32003KT 9999 FEW002 TEM...</td>\n",
       "    </tr>\n",
       "    <tr>\n",
       "      <th>2021-12-08 09:40:00</th>\n",
       "      <td>2021-12-08 09:00:00</td>\n",
       "      <td>EFHK 080838Z 0809/0909 32003KT 9999 FEW002 TEM...</td>\n",
       "    </tr>\n",
       "    <tr>\n",
       "      <th>2021-12-08 09:50:00</th>\n",
       "      <td>2021-12-08 09:00:00</td>\n",
       "      <td>EFHK 080838Z 0809/0909 32003KT 9999 FEW002 TEM...</td>\n",
       "    </tr>\n",
       "    <tr>\n",
       "      <th>2021-12-08 10:00:00</th>\n",
       "      <td>2021-12-08 10:00:00</td>\n",
       "      <td>EFHK 080838Z 0809/0909 32003KT 9999 FEW002 TEM...</td>\n",
       "    </tr>\n",
       "    <tr>\n",
       "      <th>2021-12-08 10:10:00</th>\n",
       "      <td>2021-12-08 10:00:00</td>\n",
       "      <td>EFHK 080838Z 0809/0909 32003KT 9999 FEW002 TEM...</td>\n",
       "    </tr>\n",
       "    <tr>\n",
       "      <th>2021-12-08 10:20:00</th>\n",
       "      <td>2021-12-08 10:00:00</td>\n",
       "      <td>EFHK 080838Z 0809/0909 32003KT 9999 FEW002 TEM...</td>\n",
       "    </tr>\n",
       "    <tr>\n",
       "      <th>2021-12-08 10:30:00</th>\n",
       "      <td>2021-12-08 10:00:00</td>\n",
       "      <td>EFHK 080838Z 0809/0909 32003KT 9999 FEW002 TEM...</td>\n",
       "    </tr>\n",
       "    <tr>\n",
       "      <th>2021-12-08 10:40:00</th>\n",
       "      <td>2021-12-08 10:00:00</td>\n",
       "      <td>EFHK 080838Z 0809/0909 32003KT 9999 FEW002 TEM...</td>\n",
       "    </tr>\n",
       "    <tr>\n",
       "      <th>2021-12-08 10:50:00</th>\n",
       "      <td>2021-12-08 10:00:00</td>\n",
       "      <td>EFHK 080838Z 0809/0909 32003KT 9999 FEW002 TEM...</td>\n",
       "    </tr>\n",
       "    <tr>\n",
       "      <th>2021-12-08 11:00:00</th>\n",
       "      <td>2021-12-08 11:00:00</td>\n",
       "      <td>EFHK 080838Z 0809/0909 32003KT 9999 FEW002 TEM...</td>\n",
       "    </tr>\n",
       "    <tr>\n",
       "      <th>2021-12-08 11:10:00</th>\n",
       "      <td>2021-12-08 11:00:00</td>\n",
       "      <td>EFHK 080838Z 0809/0909 32003KT 9999 FEW002 TEM...</td>\n",
       "    </tr>\n",
       "    <tr>\n",
       "      <th>2021-12-08 11:20:00</th>\n",
       "      <td>2021-12-08 11:00:00</td>\n",
       "      <td>EFHK 080838Z 0809/0909 32003KT 9999 FEW002 TEM...</td>\n",
       "    </tr>\n",
       "    <tr>\n",
       "      <th>2021-12-08 11:30:00</th>\n",
       "      <td>2021-12-08 11:00:00</td>\n",
       "      <td>EFHK 080838Z 0809/0909 32003KT 9999 FEW002 TEM...</td>\n",
       "    </tr>\n",
       "    <tr>\n",
       "      <th>2021-12-08 11:40:00</th>\n",
       "      <td>2021-12-08 11:00:00</td>\n",
       "      <td>EFHK 080838Z 0809/0909 32003KT 9999 FEW002 TEM...</td>\n",
       "    </tr>\n",
       "    <tr>\n",
       "      <th>2021-12-08 11:50:00</th>\n",
       "      <td>2021-12-08 11:00:00</td>\n",
       "      <td>EFHK 080838Z 0809/0909 32003KT 9999 FEW002 TEM...</td>\n",
       "    </tr>\n",
       "    <tr>\n",
       "      <th>2021-12-08 12:00:00</th>\n",
       "      <td>2021-12-08 12:00:00</td>\n",
       "      <td>EFHK 081137Z 0812/0912 32003KT 9999 FEW001 PRO...</td>\n",
       "    </tr>\n",
       "    <tr>\n",
       "      <th>2021-12-08 12:10:00</th>\n",
       "      <td>2021-12-08 12:00:00</td>\n",
       "      <td>EFHK 081137Z 0812/0912 32003KT 9999 FEW001 PRO...</td>\n",
       "    </tr>\n",
       "    <tr>\n",
       "      <th>2021-12-08 12:20:00</th>\n",
       "      <td>2021-12-08 12:00:00</td>\n",
       "      <td>EFHK 081137Z 0812/0912 32003KT 9999 FEW001 PRO...</td>\n",
       "    </tr>\n",
       "    <tr>\n",
       "      <th>2021-12-08 12:30:00</th>\n",
       "      <td>2021-12-08 12:00:00</td>\n",
       "      <td>EFHK 081137Z 0812/0912 32003KT 9999 FEW001 PRO...</td>\n",
       "    </tr>\n",
       "    <tr>\n",
       "      <th>2021-12-08 12:40:00</th>\n",
       "      <td>2021-12-08 12:00:00</td>\n",
       "      <td>EFHK 081137Z 0812/0912 32003KT 9999 FEW001 PRO...</td>\n",
       "    </tr>\n",
       "    <tr>\n",
       "      <th>2021-12-08 12:50:00</th>\n",
       "      <td>2021-12-08 12:00:00</td>\n",
       "      <td>EFHK 081137Z 0812/0912 32003KT 9999 FEW001 PRO...</td>\n",
       "    </tr>\n",
       "    <tr>\n",
       "      <th>2021-12-08 13:00:00</th>\n",
       "      <td>2021-12-08 13:00:00</td>\n",
       "      <td>EFHK 081137Z 0812/0912 32003KT 9999 FEW001 PRO...</td>\n",
       "    </tr>\n",
       "    <tr>\n",
       "      <th>2021-12-08 13:10:00</th>\n",
       "      <td>2021-12-08 13:00:00</td>\n",
       "      <td>EFHK 081137Z 0812/0912 32003KT 9999 FEW001 PRO...</td>\n",
       "    </tr>\n",
       "    <tr>\n",
       "      <th>2021-12-08 13:20:00</th>\n",
       "      <td>2021-12-08 13:00:00</td>\n",
       "      <td>EFHK 081137Z 0812/0912 32003KT 9999 FEW001 PRO...</td>\n",
       "    </tr>\n",
       "    <tr>\n",
       "      <th>2021-12-08 13:30:00</th>\n",
       "      <td>2021-12-08 13:00:00</td>\n",
       "      <td>EFHK 081137Z 0812/0912 32003KT 9999 FEW001 PRO...</td>\n",
       "    </tr>\n",
       "    <tr>\n",
       "      <th>2021-12-08 13:40:00</th>\n",
       "      <td>2021-12-08 13:00:00</td>\n",
       "      <td>EFHK 081137Z 0812/0912 32003KT 9999 FEW001 PRO...</td>\n",
       "    </tr>\n",
       "    <tr>\n",
       "      <th>2021-12-08 13:50:00</th>\n",
       "      <td>2021-12-08 13:00:00</td>\n",
       "      <td>EFHK 081137Z 0812/0912 32003KT 9999 FEW001 PRO...</td>\n",
       "    </tr>\n",
       "    <tr>\n",
       "      <th>2021-12-08 14:00:00</th>\n",
       "      <td>2021-12-08 14:00:00</td>\n",
       "      <td>EFHK 081137Z 0812/0912 32003KT 9999 FEW001 PRO...</td>\n",
       "    </tr>\n",
       "  </tbody>\n",
       "</table>\n",
       "</div>"
      ],
      "text/plain": [
       "                                   ttime  \\\n",
       "time                                       \n",
       "2021-12-08 08:20:00  2021-12-08 08:00:00   \n",
       "2021-12-08 08:30:00  2021-12-08 08:00:00   \n",
       "2021-12-08 08:40:00  2021-12-08 08:00:00   \n",
       "2021-12-08 08:50:00  2021-12-08 08:00:00   \n",
       "2021-12-08 09:00:00  2021-12-08 09:00:00   \n",
       "2021-12-08 09:10:00  2021-12-08 09:00:00   \n",
       "2021-12-08 09:20:00  2021-12-08 09:00:00   \n",
       "2021-12-08 09:30:00  2021-12-08 09:00:00   \n",
       "2021-12-08 09:40:00  2021-12-08 09:00:00   \n",
       "2021-12-08 09:50:00  2021-12-08 09:00:00   \n",
       "2021-12-08 10:00:00  2021-12-08 10:00:00   \n",
       "2021-12-08 10:10:00  2021-12-08 10:00:00   \n",
       "2021-12-08 10:20:00  2021-12-08 10:00:00   \n",
       "2021-12-08 10:30:00  2021-12-08 10:00:00   \n",
       "2021-12-08 10:40:00  2021-12-08 10:00:00   \n",
       "2021-12-08 10:50:00  2021-12-08 10:00:00   \n",
       "2021-12-08 11:00:00  2021-12-08 11:00:00   \n",
       "2021-12-08 11:10:00  2021-12-08 11:00:00   \n",
       "2021-12-08 11:20:00  2021-12-08 11:00:00   \n",
       "2021-12-08 11:30:00  2021-12-08 11:00:00   \n",
       "2021-12-08 11:40:00  2021-12-08 11:00:00   \n",
       "2021-12-08 11:50:00  2021-12-08 11:00:00   \n",
       "2021-12-08 12:00:00  2021-12-08 12:00:00   \n",
       "2021-12-08 12:10:00  2021-12-08 12:00:00   \n",
       "2021-12-08 12:20:00  2021-12-08 12:00:00   \n",
       "2021-12-08 12:30:00  2021-12-08 12:00:00   \n",
       "2021-12-08 12:40:00  2021-12-08 12:00:00   \n",
       "2021-12-08 12:50:00  2021-12-08 12:00:00   \n",
       "2021-12-08 13:00:00  2021-12-08 13:00:00   \n",
       "2021-12-08 13:10:00  2021-12-08 13:00:00   \n",
       "2021-12-08 13:20:00  2021-12-08 13:00:00   \n",
       "2021-12-08 13:30:00  2021-12-08 13:00:00   \n",
       "2021-12-08 13:40:00  2021-12-08 13:00:00   \n",
       "2021-12-08 13:50:00  2021-12-08 13:00:00   \n",
       "2021-12-08 14:00:00  2021-12-08 14:00:00   \n",
       "\n",
       "                                                               content  \n",
       "time                                                                    \n",
       "2021-12-08 08:20:00  EFHK 080659Z 0806/0906 32004KT 9999 FEW002 PRO...  \n",
       "2021-12-08 08:30:00  EFHK 080659Z 0806/0906 32004KT 9999 FEW002 PRO...  \n",
       "2021-12-08 08:40:00  EFHK 080659Z 0806/0906 32004KT 9999 FEW002 PRO...  \n",
       "2021-12-08 08:50:00  EFHK 080659Z 0806/0906 32004KT 9999 FEW002 PRO...  \n",
       "2021-12-08 09:00:00  EFHK 080838Z 0809/0909 32003KT 9999 FEW002 TEM...  \n",
       "2021-12-08 09:10:00  EFHK 080838Z 0809/0909 32003KT 9999 FEW002 TEM...  \n",
       "2021-12-08 09:20:00  EFHK 080838Z 0809/0909 32003KT 9999 FEW002 TEM...  \n",
       "2021-12-08 09:30:00  EFHK 080838Z 0809/0909 32003KT 9999 FEW002 TEM...  \n",
       "2021-12-08 09:40:00  EFHK 080838Z 0809/0909 32003KT 9999 FEW002 TEM...  \n",
       "2021-12-08 09:50:00  EFHK 080838Z 0809/0909 32003KT 9999 FEW002 TEM...  \n",
       "2021-12-08 10:00:00  EFHK 080838Z 0809/0909 32003KT 9999 FEW002 TEM...  \n",
       "2021-12-08 10:10:00  EFHK 080838Z 0809/0909 32003KT 9999 FEW002 TEM...  \n",
       "2021-12-08 10:20:00  EFHK 080838Z 0809/0909 32003KT 9999 FEW002 TEM...  \n",
       "2021-12-08 10:30:00  EFHK 080838Z 0809/0909 32003KT 9999 FEW002 TEM...  \n",
       "2021-12-08 10:40:00  EFHK 080838Z 0809/0909 32003KT 9999 FEW002 TEM...  \n",
       "2021-12-08 10:50:00  EFHK 080838Z 0809/0909 32003KT 9999 FEW002 TEM...  \n",
       "2021-12-08 11:00:00  EFHK 080838Z 0809/0909 32003KT 9999 FEW002 TEM...  \n",
       "2021-12-08 11:10:00  EFHK 080838Z 0809/0909 32003KT 9999 FEW002 TEM...  \n",
       "2021-12-08 11:20:00  EFHK 080838Z 0809/0909 32003KT 9999 FEW002 TEM...  \n",
       "2021-12-08 11:30:00  EFHK 080838Z 0809/0909 32003KT 9999 FEW002 TEM...  \n",
       "2021-12-08 11:40:00  EFHK 080838Z 0809/0909 32003KT 9999 FEW002 TEM...  \n",
       "2021-12-08 11:50:00  EFHK 080838Z 0809/0909 32003KT 9999 FEW002 TEM...  \n",
       "2021-12-08 12:00:00  EFHK 081137Z 0812/0912 32003KT 9999 FEW001 PRO...  \n",
       "2021-12-08 12:10:00  EFHK 081137Z 0812/0912 32003KT 9999 FEW001 PRO...  \n",
       "2021-12-08 12:20:00  EFHK 081137Z 0812/0912 32003KT 9999 FEW001 PRO...  \n",
       "2021-12-08 12:30:00  EFHK 081137Z 0812/0912 32003KT 9999 FEW001 PRO...  \n",
       "2021-12-08 12:40:00  EFHK 081137Z 0812/0912 32003KT 9999 FEW001 PRO...  \n",
       "2021-12-08 12:50:00  EFHK 081137Z 0812/0912 32003KT 9999 FEW001 PRO...  \n",
       "2021-12-08 13:00:00  EFHK 081137Z 0812/0912 32003KT 9999 FEW001 PRO...  \n",
       "2021-12-08 13:10:00  EFHK 081137Z 0812/0912 32003KT 9999 FEW001 PRO...  \n",
       "2021-12-08 13:20:00  EFHK 081137Z 0812/0912 32003KT 9999 FEW001 PRO...  \n",
       "2021-12-08 13:30:00  EFHK 081137Z 0812/0912 32003KT 9999 FEW001 PRO...  \n",
       "2021-12-08 13:40:00  EFHK 081137Z 0812/0912 32003KT 9999 FEW001 PRO...  \n",
       "2021-12-08 13:50:00  EFHK 081137Z 0812/0912 32003KT 9999 FEW001 PRO...  \n",
       "2021-12-08 14:00:00  EFHK 081137Z 0812/0912 32003KT 9999 FEW001 PRO...  "
      ]
     },
     "execution_count": 3,
     "metadata": {},
     "output_type": "execute_result"
    }
   ],
   "source": [
    "cols = ['ttime', 'content']\n",
    "efhk_taf = pd.read_csv('sample-data/EFHK_2021_TAF.csv', sep=';', usecols=cols)\n",
    "efhk_taf['time'] = pd.to_datetime(efhk_taf['ttime'])\n",
    "efhk_taf.set_index('time', inplace=True)\n",
    "efhk_taf = efhk_taf.asfreq('10min', method='ffill')\n",
    "efhk_taf['content'] = efhk_taf['content'].ffill()\n",
    "efhk_taf.iloc[-35:,:]"
   ]
  },
  {
   "cell_type": "code",
   "execution_count": 4,
   "metadata": {},
   "outputs": [
    {
     "data": {
      "text/html": [
       "<div>\n",
       "<style scoped>\n",
       "    .dataframe tbody tr th:only-of-type {\n",
       "        vertical-align: middle;\n",
       "    }\n",
       "\n",
       "    .dataframe tbody tr th {\n",
       "        vertical-align: top;\n",
       "    }\n",
       "\n",
       "    .dataframe thead th {\n",
       "        text-align: right;\n",
       "    }\n",
       "</style>\n",
       "<table border=\"1\" class=\"dataframe\">\n",
       "  <thead>\n",
       "    <tr style=\"text-align: right;\">\n",
       "      <th></th>\n",
       "      <th>ttime</th>\n",
       "      <th>content</th>\n",
       "    </tr>\n",
       "    <tr>\n",
       "      <th>time</th>\n",
       "      <th></th>\n",
       "      <th></th>\n",
       "    </tr>\n",
       "  </thead>\n",
       "  <tbody>\n",
       "    <tr>\n",
       "      <th>2021-01-01 00:00:00</th>\n",
       "      <td>2021-01-01 00:00:00</td>\n",
       "      <td>ILZQ 010000Z AUTO 23003KT 2300 BR ////// 00/00...</td>\n",
       "    </tr>\n",
       "    <tr>\n",
       "      <th>2021-01-01 00:10:00</th>\n",
       "      <td>2021-01-01 00:10:00</td>\n",
       "      <td>ILZQ 010010Z AUTO 23003KT 2100 BR ////// M00/M...</td>\n",
       "    </tr>\n",
       "    <tr>\n",
       "      <th>2021-01-01 00:20:00</th>\n",
       "      <td>2021-01-01 00:20:00</td>\n",
       "      <td>ILZQ 010020Z AUTO 23003KT 1800 BR ////// M00/M...</td>\n",
       "    </tr>\n",
       "    <tr>\n",
       "      <th>2021-01-01 00:40:00</th>\n",
       "      <td>2021-01-01 00:40:00</td>\n",
       "      <td>ILZQ 010040Z AUTO 22003KT 1700 BR ////// M00/M...</td>\n",
       "    </tr>\n",
       "    <tr>\n",
       "      <th>2021-01-01 00:50:00</th>\n",
       "      <td>2021-01-01 00:50:00</td>\n",
       "      <td>ILZQ 010050Z AUTO 23003KT 1800 BR ////// M00/M...</td>\n",
       "    </tr>\n",
       "    <tr>\n",
       "      <th>...</th>\n",
       "      <td>...</td>\n",
       "      <td>...</td>\n",
       "    </tr>\n",
       "    <tr>\n",
       "      <th>2021-12-03 16:40:00</th>\n",
       "      <td>2021-12-03 16:40:00</td>\n",
       "      <td>ILZQ 031640Z AUTO 35005KT 4200 -SN OVC020 M08/...</td>\n",
       "    </tr>\n",
       "    <tr>\n",
       "      <th>2021-12-03 16:50:00</th>\n",
       "      <td>2021-12-03 16:50:00</td>\n",
       "      <td>ILZQ 031650Z AUTO 35004KT 4700 -SN OVC021 M08/...</td>\n",
       "    </tr>\n",
       "    <tr>\n",
       "      <th>2021-12-03 17:00:00</th>\n",
       "      <td>2021-12-03 17:00:00</td>\n",
       "      <td>ILZQ 031700Z AUTO 36004KT 5000 -SN OVC030 M08/...</td>\n",
       "    </tr>\n",
       "    <tr>\n",
       "      <th>2021-12-03 17:10:00</th>\n",
       "      <td>2021-12-03 17:10:00</td>\n",
       "      <td>ILZQ 031710Z AUTO 35004KT 5000 -SN OVC029 M08/...</td>\n",
       "    </tr>\n",
       "    <tr>\n",
       "      <th>2021-12-03 17:20:00</th>\n",
       "      <td>2021-12-03 17:20:00</td>\n",
       "      <td>ILZQ 031720Z AUTO 35004KT 2600 -SN OVC026 M08/...</td>\n",
       "    </tr>\n",
       "  </tbody>\n",
       "</table>\n",
       "<p>45268 rows × 2 columns</p>\n",
       "</div>"
      ],
      "text/plain": [
       "                                   ttime  \\\n",
       "time                                       \n",
       "2021-01-01 00:00:00  2021-01-01 00:00:00   \n",
       "2021-01-01 00:10:00  2021-01-01 00:10:00   \n",
       "2021-01-01 00:20:00  2021-01-01 00:20:00   \n",
       "2021-01-01 00:40:00  2021-01-01 00:40:00   \n",
       "2021-01-01 00:50:00  2021-01-01 00:50:00   \n",
       "...                                  ...   \n",
       "2021-12-03 16:40:00  2021-12-03 16:40:00   \n",
       "2021-12-03 16:50:00  2021-12-03 16:50:00   \n",
       "2021-12-03 17:00:00  2021-12-03 17:00:00   \n",
       "2021-12-03 17:10:00  2021-12-03 17:10:00   \n",
       "2021-12-03 17:20:00  2021-12-03 17:20:00   \n",
       "\n",
       "                                                               content  \n",
       "time                                                                    \n",
       "2021-01-01 00:00:00  ILZQ 010000Z AUTO 23003KT 2300 BR ////// 00/00...  \n",
       "2021-01-01 00:10:00  ILZQ 010010Z AUTO 23003KT 2100 BR ////// M00/M...  \n",
       "2021-01-01 00:20:00  ILZQ 010020Z AUTO 23003KT 1800 BR ////// M00/M...  \n",
       "2021-01-01 00:40:00  ILZQ 010040Z AUTO 22003KT 1700 BR ////// M00/M...  \n",
       "2021-01-01 00:50:00  ILZQ 010050Z AUTO 23003KT 1800 BR ////// M00/M...  \n",
       "...                                                                ...  \n",
       "2021-12-03 16:40:00  ILZQ 031640Z AUTO 35005KT 4200 -SN OVC020 M08/...  \n",
       "2021-12-03 16:50:00  ILZQ 031650Z AUTO 35004KT 4700 -SN OVC021 M08/...  \n",
       "2021-12-03 17:00:00  ILZQ 031700Z AUTO 36004KT 5000 -SN OVC030 M08/...  \n",
       "2021-12-03 17:10:00  ILZQ 031710Z AUTO 35004KT 5000 -SN OVC029 M08/...  \n",
       "2021-12-03 17:20:00  ILZQ 031720Z AUTO 35004KT 2600 -SN OVC026 M08/...  \n",
       "\n",
       "[45268 rows x 2 columns]"
      ]
     },
     "execution_count": 4,
     "metadata": {},
     "output_type": "execute_result"
    }
   ],
   "source": [
    "ilzq_metar = pd.read_csv('sample-data/ILZQ_2021_METAR.dat', sep=';', usecols=cols)\n",
    "ilzq_metar['time'] = pd.to_datetime(ilzq_metar['ttime'])\n",
    "ilzq_metar.set_index('time', inplace=True)\n",
    "ilzq_metar"
   ]
  },
  {
   "cell_type": "code",
   "execution_count": 5,
   "metadata": {},
   "outputs": [
    {
     "name": "stdout",
     "output_type": "stream",
     "text": [
      "station: EFHK\n",
      "type: routine report, cycle 8 (automatic report)\n",
      "time: Sat Jan  1 08:20:00 2022\n",
      "temperature: 0.0 C\n",
      "dew point: 0.0 C\n",
      "wind: ESE at 2 knots\n",
      "visibility: 800 meters\n",
      "visual range: on runway 04L, greater than 2000 meters; on runway 15, greater than 2000 meters; on runway 22L, 2000 meters; on runway 22R, greater than 2000 meters\n",
      "pressure: 1011.0 mb\n",
      "weather: fog\n",
      "sky: scattered clouds at 400 feet\n",
      "     broken clouds at 1300 feet\n",
      "METAR: EFHK 010820Z 11002KT 0800 R04L/P2000N R15/P2000N R22L/2000N R22R/P2000N FG SCT004 BKN013 00/00 Q1011 BECMG 2000 BR=\n"
     ]
    }
   ],
   "source": [
    "metar = Metar.Metar(efhk_metar.iloc[16, 1])\n",
    "print(metar.string())"
   ]
  },
  {
   "cell_type": "code",
   "execution_count": 6,
   "metadata": {},
   "outputs": [
    {
     "data": {
      "text/plain": [
       "2000.0"
      ]
     },
     "execution_count": 6,
     "metadata": {},
     "output_type": "execute_result"
    }
   ],
   "source": [
    "#metar.runway[0][1].value()\n",
    "metar.runway[0][1].value()"
   ]
  },
  {
   "cell_type": "code",
   "execution_count": 7,
   "metadata": {},
   "outputs": [
    {
     "data": {
      "text/plain": [
       "[('SCT', <metar.Datatypes.distance at 0x12074e5fb50>, None),\n",
       " ('BKN', <metar.Datatypes.distance at 0x12074e5f880>, None)]"
      ]
     },
     "execution_count": 7,
     "metadata": {},
     "output_type": "execute_result"
    }
   ],
   "source": [
    "metar.sky"
   ]
  },
  {
   "cell_type": "code",
   "execution_count": 8,
   "metadata": {},
   "outputs": [
    {
     "name": "stdout",
     "output_type": "stream",
     "text": [
      "3.2038041011444016\n"
     ]
    }
   ],
   "source": [
    "dt = datetime.fromisoformat(efhk_metar.iloc[16, 0] + '+00:00')\n",
    "print(solar.get_altitude(efhk_lat, efhk_lon, dt))"
   ]
  },
  {
   "cell_type": "code",
   "execution_count": 9,
   "metadata": {},
   "outputs": [
    {
     "data": {
      "text/plain": [
       "0.0"
      ]
     },
     "execution_count": 9,
     "metadata": {},
     "output_type": "execute_result"
    }
   ],
   "source": [
    "temp = metar.temp.value()\n",
    "temp"
   ]
  },
  {
   "cell_type": "code",
   "execution_count": 10,
   "metadata": {},
   "outputs": [
    {
     "data": {
      "text/plain": [
       "800"
      ]
     },
     "execution_count": 10,
     "metadata": {},
     "output_type": "execute_result"
    }
   ],
   "source": [
    "vis = int(metar.vis.value())\n",
    "vis"
   ]
  },
  {
   "cell_type": "code",
   "execution_count": 11,
   "metadata": {},
   "outputs": [
    {
     "data": {
      "text/plain": [
       "2000"
      ]
     },
     "execution_count": 11,
     "metadata": {},
     "output_type": "execute_result"
    }
   ],
   "source": [
    "metar_tools.get_rvr(metar)"
   ]
  },
  {
   "cell_type": "code",
   "execution_count": 12,
   "metadata": {},
   "outputs": [
    {
     "data": {
      "text/plain": [
       "1300"
      ]
     },
     "execution_count": 12,
     "metadata": {},
     "output_type": "execute_result"
    }
   ],
   "source": [
    "metar_tools.get_ceil(metar)"
   ]
  },
  {
   "cell_type": "code",
   "execution_count": 13,
   "metadata": {},
   "outputs": [
    {
     "data": {
      "text/plain": [
       "400"
      ]
     },
     "execution_count": 13,
     "metadata": {},
     "output_type": "execute_result"
    }
   ],
   "source": [
    "metar_tools.get_base(metar, metar_tools.get_ceil(metar))"
   ]
  },
  {
   "cell_type": "code",
   "execution_count": 14,
   "metadata": {},
   "outputs": [
    {
     "name": "stdout",
     "output_type": "stream",
     "text": [
      "station: ILZQ\n",
      "type: routine report (automatic report)\n",
      "time: Sat Jan  1 00:00:00 2022\n",
      "temperature: 0.0 C\n",
      "dew point: 0.0 C\n",
      "wind: SW at 3 knots\n",
      "visibility: 2300 meters\n",
      "pressure: 1009.0 mb\n",
      "weather: mist; ,  and \n",
      "METAR: ILZQ 010000Z AUTO 23003KT 2300 BR ////// 00/00 Q1009=\n"
     ]
    }
   ],
   "source": [
    "row = 0 #42\n",
    "ilzq_obs = Metar.Metar(ilzq_metar.iloc[row, 1])\n",
    "print(ilzq_obs.string())"
   ]
  },
  {
   "cell_type": "code",
   "execution_count": 15,
   "metadata": {},
   "outputs": [
    {
     "name": "stdout",
     "output_type": "stream",
     "text": [
      "[]\n"
     ]
    }
   ],
   "source": [
    "print(ilzq_obs.sky)"
   ]
  },
  {
   "cell_type": "code",
   "execution_count": 16,
   "metadata": {},
   "outputs": [
    {
     "data": {
      "text/plain": [
       "0"
      ]
     },
     "execution_count": 16,
     "metadata": {},
     "output_type": "execute_result"
    }
   ],
   "source": [
    "metar_tools.get_ceil(ilzq_obs)"
   ]
  },
  {
   "cell_type": "code",
   "execution_count": 17,
   "metadata": {},
   "outputs": [
    {
     "data": {
      "text/plain": [
       "0"
      ]
     },
     "execution_count": 17,
     "metadata": {},
     "output_type": "execute_result"
    }
   ],
   "source": [
    "metar_tools.get_base(ilzq_obs, metar_tools.get_ceil(ilzq_obs))"
   ]
  },
  {
   "cell_type": "code",
   "execution_count": 18,
   "metadata": {},
   "outputs": [
    {
     "data": {
      "text/plain": [
       "True"
      ]
     },
     "execution_count": 18,
     "metadata": {},
     "output_type": "execute_result"
    }
   ],
   "source": [
    "misc_tools.is_night('2021-01-01 06:10:00', efhk_lat, efhk_lon)"
   ]
  },
  {
   "cell_type": "code",
   "execution_count": 19,
   "metadata": {},
   "outputs": [],
   "source": [
    "t = datetime.strptime('2021-01-01 06:10:00', '%Y-%m-%d %H:%M:%S')"
   ]
  },
  {
   "cell_type": "code",
   "execution_count": 20,
   "metadata": {},
   "outputs": [
    {
     "data": {
      "text/plain": [
       "<metar_taf_parser.model.model.TAF at 0x12074e15db0>"
      ]
     },
     "execution_count": 20,
     "metadata": {},
     "output_type": "execute_result"
    }
   ],
   "source": [
    "taf = TAFParser().parse('TAF ' + efhk_taf.iloc[11, 1])\n",
    "taf"
   ]
  },
  {
   "cell_type": "code",
   "execution_count": 21,
   "metadata": {},
   "outputs": [
    {
     "data": {
      "text/plain": [
       "0"
      ]
     },
     "execution_count": 21,
     "metadata": {},
     "output_type": "execute_result"
    }
   ],
   "source": [
    "taf_tools.validity_during_flight(taf, datetime.strptime('2021-01-07 18:00:00', '%Y-%m-%d %H:%M:%S'), 3)"
   ]
  },
  {
   "cell_type": "code",
   "execution_count": 22,
   "metadata": {},
   "outputs": [
    {
     "name": "stdout",
     "output_type": "stream",
     "text": [
      "None\n"
     ]
    }
   ],
   "source": [
    "print(taf_tools.get_worstcase_vis(taf, '2021-01-08 15:00:00', 3))"
   ]
  },
  {
   "cell_type": "code",
   "execution_count": 23,
   "metadata": {},
   "outputs": [],
   "source": [
    "def extract_taf(data: np.ndarray):\n",
    "    time_str = data[0]\n",
    "    taf_str = data[1]\n",
    "    forecast = taf_tools.parse(taf_str) #TAFParser().parse('TAF ' + taf_str)\n",
    "    vis = taf_tools.get_worstcase_vis(forecast, time_str, 3)\n",
    "    return (time_str, vis, taf_str)"
   ]
  },
  {
   "cell_type": "code",
   "execution_count": 24,
   "metadata": {},
   "outputs": [],
   "source": [
    "def extract_metar(data: np.ndarray, lat: float, lon: float):\n",
    "    time_str = data[0]\n",
    "    metar_str = data[1]\n",
    "    obs = metar_tools.parse(metar_str) #Metar.Metar(metar_str, strict=False)\n",
    "    temp = metar_tools.get_temp(obs)\n",
    "    vis = metar_tools.get_vis(obs)\n",
    "    rvr = metar_tools.get_rvr(obs)\n",
    "    ceil = metar_tools.get_ceil(obs)\n",
    "    base = metar_tools.get_base(obs, ceil)\n",
    "    night = misc_tools.is_night(time_str, efhk_lat, efhk_lon)\n",
    "    return (time_str, temp, vis, rvr, ceil, base, night, metar_str)"
   ]
  },
  {
   "cell_type": "code",
   "execution_count": 25,
   "metadata": {},
   "outputs": [],
   "source": [
    "taf = [extract_taf(d) for d in zip(efhk_taf.ttime, efhk_taf.content)]"
   ]
  },
  {
   "cell_type": "code",
   "execution_count": 25,
   "metadata": {},
   "outputs": [
    {
     "name": "stderr",
     "output_type": "stream",
     "text": [
      "C:\\Users\\makes\\miniconda3\\envs\\hems\\lib\\site-packages\\metar\\Metar.py:502: RuntimeWarning: Unparsed groups in body '400S' while processing 'EFHK 010250Z 32002KT 0900 400S R04L/1300D R15/1200U R22L/0650D R22R/1600U FG BKN002 M12/M13 Q0994 BECMG 2000 BR='\n",
      "  warnings.warn(message, RuntimeWarning)\n",
      "C:\\Users\\makes\\miniconda3\\envs\\hems\\lib\\site-packages\\metar\\Metar.py:502: RuntimeWarning: Unparsed groups in body 'BRFG -SHRA BKN002 FEW020CB' while processing 'EFHK 190350Z 36005KT 0800 R04L/P2000N R15/1500D R22L/1700D R22R/1800D -RA FG OVC002 12/12 Q0999 TEMPO 1200 BRFG -SHRA BKN002 FEW020CB='\n",
      "  warnings.warn(message, RuntimeWarning)\n",
      "C:\\Users\\makes\\miniconda3\\envs\\hems\\lib\\site-packages\\metar\\Metar.py:502: RuntimeWarning: Unparsed groups in body 'NSW' while processing 'EFHK 261120Z 31004KT 230V350 9999 TS FEW025 FEW030CB 23/17 Q1011 BECMG FEW030 NSW='\n",
      "  warnings.warn(message, RuntimeWarning)\n",
      "C:\\Users\\makes\\miniconda3\\envs\\hems\\lib\\site-packages\\metar\\Metar.py:502: RuntimeWarning: Unparsed groups in body 'WS22L' while processing 'EFHK 021150Z 28014KT 250V320 9999 SCT045 15/04 Q1012 WS22L NOSIG='\n",
      "  warnings.warn(message, RuntimeWarning)\n",
      "C:\\Users\\makes\\miniconda3\\envs\\hems\\lib\\site-packages\\metar\\Metar.py:502: RuntimeWarning: Unparsed groups in body 'WS RWY 22L' while processing 'EFHK 251250Z 23013KT 9999 BKN029 10/04 Q1013 WS RWY 22L NOSIG='\n",
      "  warnings.warn(message, RuntimeWarning)\n"
     ]
    }
   ],
   "source": [
    "a = [extract_metar(d, lat=efhk_lat, lon=efhk_lon) for d in zip(efhk_metar.ttime, efhk_metar.content)]"
   ]
  },
  {
   "cell_type": "code",
   "execution_count": 26,
   "metadata": {},
   "outputs": [],
   "source": [
    "b = [extract_metar(d, lat=ilzq_lat, lon=ilzq_lon) for d in zip(ilzq_metar.ttime, ilzq_metar.content)]"
   ]
  },
  {
   "cell_type": "code",
   "execution_count": null,
   "metadata": {},
   "outputs": [
    {
     "data": {
      "text/html": [
       "<div>\n",
       "<style scoped>\n",
       "    .dataframe tbody tr th:only-of-type {\n",
       "        vertical-align: middle;\n",
       "    }\n",
       "\n",
       "    .dataframe tbody tr th {\n",
       "        vertical-align: top;\n",
       "    }\n",
       "\n",
       "    .dataframe thead th {\n",
       "        text-align: right;\n",
       "    }\n",
       "</style>\n",
       "<table border=\"1\" class=\"dataframe\">\n",
       "  <thead>\n",
       "    <tr style=\"text-align: right;\">\n",
       "      <th></th>\n",
       "      <th>temp</th>\n",
       "      <th>vis</th>\n",
       "      <th>rvr</th>\n",
       "      <th>ceil</th>\n",
       "      <th>base</th>\n",
       "      <th>night</th>\n",
       "      <th>metar</th>\n",
       "    </tr>\n",
       "    <tr>\n",
       "      <th>time</th>\n",
       "      <th></th>\n",
       "      <th></th>\n",
       "      <th></th>\n",
       "      <th></th>\n",
       "      <th></th>\n",
       "      <th></th>\n",
       "      <th></th>\n",
       "    </tr>\n",
       "  </thead>\n",
       "  <tbody>\n",
       "    <tr>\n",
       "      <th>2021-01-01 00:00:00</th>\n",
       "      <td>0</td>\n",
       "      <td>2300</td>\n",
       "      <td>9999</td>\n",
       "      <td>9999</td>\n",
       "      <td>400</td>\n",
       "      <td>True</td>\n",
       "      <td>ILZQ 010000Z AUTO 23003KT 2300 BR ////// 00/00...</td>\n",
       "    </tr>\n",
       "    <tr>\n",
       "      <th>2021-01-01 00:10:00</th>\n",
       "      <td>0</td>\n",
       "      <td>2100</td>\n",
       "      <td>9999</td>\n",
       "      <td>9999</td>\n",
       "      <td>400</td>\n",
       "      <td>True</td>\n",
       "      <td>ILZQ 010010Z AUTO 23003KT 2100 BR ////// M00/M...</td>\n",
       "    </tr>\n",
       "    <tr>\n",
       "      <th>2021-01-01 00:20:00</th>\n",
       "      <td>0</td>\n",
       "      <td>1800</td>\n",
       "      <td>9999</td>\n",
       "      <td>9999</td>\n",
       "      <td>400</td>\n",
       "      <td>True</td>\n",
       "      <td>ILZQ 010020Z AUTO 23003KT 1800 BR ////// M00/M...</td>\n",
       "    </tr>\n",
       "    <tr>\n",
       "      <th>2021-01-01 00:40:00</th>\n",
       "      <td>0</td>\n",
       "      <td>1700</td>\n",
       "      <td>9999</td>\n",
       "      <td>9999</td>\n",
       "      <td>400</td>\n",
       "      <td>True</td>\n",
       "      <td>ILZQ 010040Z AUTO 22003KT 1700 BR ////// M00/M...</td>\n",
       "    </tr>\n",
       "    <tr>\n",
       "      <th>2021-01-01 00:50:00</th>\n",
       "      <td>0</td>\n",
       "      <td>1800</td>\n",
       "      <td>9999</td>\n",
       "      <td>9999</td>\n",
       "      <td>400</td>\n",
       "      <td>True</td>\n",
       "      <td>ILZQ 010050Z AUTO 23003KT 1800 BR ////// M00/M...</td>\n",
       "    </tr>\n",
       "    <tr>\n",
       "      <th>...</th>\n",
       "      <td>...</td>\n",
       "      <td>...</td>\n",
       "      <td>...</td>\n",
       "      <td>...</td>\n",
       "      <td>...</td>\n",
       "      <td>...</td>\n",
       "      <td>...</td>\n",
       "    </tr>\n",
       "    <tr>\n",
       "      <th>2021-12-03 16:40:00</th>\n",
       "      <td>-8</td>\n",
       "      <td>4200</td>\n",
       "      <td>9999</td>\n",
       "      <td>2000</td>\n",
       "      <td>400</td>\n",
       "      <td>True</td>\n",
       "      <td>ILZQ 031640Z AUTO 35005KT 4200 -SN OVC020 M08/...</td>\n",
       "    </tr>\n",
       "    <tr>\n",
       "      <th>2021-12-03 16:50:00</th>\n",
       "      <td>-8</td>\n",
       "      <td>4700</td>\n",
       "      <td>9999</td>\n",
       "      <td>2100</td>\n",
       "      <td>400</td>\n",
       "      <td>True</td>\n",
       "      <td>ILZQ 031650Z AUTO 35004KT 4700 -SN OVC021 M08/...</td>\n",
       "    </tr>\n",
       "    <tr>\n",
       "      <th>2021-12-03 17:00:00</th>\n",
       "      <td>-8</td>\n",
       "      <td>5000</td>\n",
       "      <td>9999</td>\n",
       "      <td>3000</td>\n",
       "      <td>400</td>\n",
       "      <td>True</td>\n",
       "      <td>ILZQ 031700Z AUTO 36004KT 5000 -SN OVC030 M08/...</td>\n",
       "    </tr>\n",
       "    <tr>\n",
       "      <th>2021-12-03 17:10:00</th>\n",
       "      <td>-8</td>\n",
       "      <td>5000</td>\n",
       "      <td>9999</td>\n",
       "      <td>2900</td>\n",
       "      <td>400</td>\n",
       "      <td>True</td>\n",
       "      <td>ILZQ 031710Z AUTO 35004KT 5000 -SN OVC029 M08/...</td>\n",
       "    </tr>\n",
       "    <tr>\n",
       "      <th>2021-12-03 17:20:00</th>\n",
       "      <td>-8</td>\n",
       "      <td>2600</td>\n",
       "      <td>9999</td>\n",
       "      <td>2600</td>\n",
       "      <td>400</td>\n",
       "      <td>True</td>\n",
       "      <td>ILZQ 031720Z AUTO 35004KT 2600 -SN OVC026 M08/...</td>\n",
       "    </tr>\n",
       "  </tbody>\n",
       "</table>\n",
       "<p>45268 rows × 7 columns</p>\n",
       "</div>"
      ],
      "text/plain": [
       "                     temp   vis   rvr  ceil  base  night  \\\n",
       "time                                                       \n",
       "2021-01-01 00:00:00     0  2300  9999  9999   400   True   \n",
       "2021-01-01 00:10:00     0  2100  9999  9999   400   True   \n",
       "2021-01-01 00:20:00     0  1800  9999  9999   400   True   \n",
       "2021-01-01 00:40:00     0  1700  9999  9999   400   True   \n",
       "2021-01-01 00:50:00     0  1800  9999  9999   400   True   \n",
       "...                   ...   ...   ...   ...   ...    ...   \n",
       "2021-12-03 16:40:00    -8  4200  9999  2000   400   True   \n",
       "2021-12-03 16:50:00    -8  4700  9999  2100   400   True   \n",
       "2021-12-03 17:00:00    -8  5000  9999  3000   400   True   \n",
       "2021-12-03 17:10:00    -8  5000  9999  2900   400   True   \n",
       "2021-12-03 17:20:00    -8  2600  9999  2600   400   True   \n",
       "\n",
       "                                                                 metar  \n",
       "time                                                                    \n",
       "2021-01-01 00:00:00  ILZQ 010000Z AUTO 23003KT 2300 BR ////// 00/00...  \n",
       "2021-01-01 00:10:00  ILZQ 010010Z AUTO 23003KT 2100 BR ////// M00/M...  \n",
       "2021-01-01 00:20:00  ILZQ 010020Z AUTO 23003KT 1800 BR ////// M00/M...  \n",
       "2021-01-01 00:40:00  ILZQ 010040Z AUTO 22003KT 1700 BR ////// M00/M...  \n",
       "2021-01-01 00:50:00  ILZQ 010050Z AUTO 23003KT 1800 BR ////// M00/M...  \n",
       "...                                                                ...  \n",
       "2021-12-03 16:40:00  ILZQ 031640Z AUTO 35005KT 4200 -SN OVC020 M08/...  \n",
       "2021-12-03 16:50:00  ILZQ 031650Z AUTO 35004KT 4700 -SN OVC021 M08/...  \n",
       "2021-12-03 17:00:00  ILZQ 031700Z AUTO 36004KT 5000 -SN OVC030 M08/...  \n",
       "2021-12-03 17:10:00  ILZQ 031710Z AUTO 35004KT 5000 -SN OVC029 M08/...  \n",
       "2021-12-03 17:20:00  ILZQ 031720Z AUTO 35004KT 2600 -SN OVC026 M08/...  \n",
       "\n",
       "[45268 rows x 7 columns]"
      ]
     },
     "execution_count": 141,
     "metadata": {},
     "output_type": "execute_result"
    }
   ],
   "source": [
    "ilzq_df = pd.DataFrame(b, columns=['time', 'temp', 'vis', 'rvr', 'ceil', 'base', 'night', 'metar'])\n",
    "ilzq_df['time'] = pd.to_datetime(ilzq_df['time'])\n",
    "ilzq_df.set_index('time', inplace=True)\n",
    "ilzq_df"
   ]
  },
  {
   "cell_type": "code",
   "execution_count": null,
   "metadata": {},
   "outputs": [],
   "source": [
    "ilzq_df = pd.DataFrame(b, columns=['time', 'temp', 'vis', 'rvr', 'ceil', 'base', 'night', 'metar'])\n",
    "ilzq_df['time'] = pd.to_datetime(ilzq_df['time'])\n",
    "ilzq_df.set_index('time', inplace=True)"
   ]
  },
  {
   "cell_type": "code",
   "execution_count": null,
   "metadata": {},
   "outputs": [],
   "source": [
    "efhk_df = pd.DataFrame(a, columns=['time', 'temp', 'vis', 'rvr', 'ceil', 'base', 'night', 'metar'])\n",
    "efhk_df['time'] = pd.to_datetime(efhk_df['time'])\n",
    "efhk_df.set_index('time', inplace=True)"
   ]
  },
  {
   "cell_type": "code",
   "execution_count": null,
   "metadata": {},
   "outputs": [],
   "source": [
    "efhk_df = efhk_df.asfreq('10min', method='ffill')"
   ]
  },
  {
   "cell_type": "code",
   "execution_count": null,
   "metadata": {},
   "outputs": [],
   "source": [
    "efhk_ilzq = efhk_df.join(ilzq_df, how='inner', lsuffix='_term', rsuffix='_sect')\n",
    "efhk_ilzq.drop(columns=['night_term', 'rvr_sect'], inplace=True)\n",
    "efhk_ilzq.rename(columns={'night_sect': 'night'}, inplace=True)"
   ]
  },
  {
   "cell_type": "code",
   "execution_count": null,
   "metadata": {},
   "outputs": [],
   "source": [
    "def classify_hems_ifr(row):\n",
    "    if row['night']:\n",
    "        pass"
   ]
  },
  {
   "cell_type": "code",
   "execution_count": null,
   "metadata": {},
   "outputs": [],
   "source": [
    "def classify_hems(row):\n",
    "    if row['night']:\n",
    "        if row['vis_term'] >= 3000 and row['vis_sect'] >= 3000:\n",
    "            if row['base_term'] >= 1200 and row['base_sect'] >= 1200:\n",
    "                return 'NIGHT HEMS VFR'\n",
    "        return 'NIGHT NO VFR'\n",
    "        \n",
    "    if row['vis_term'] >= 3000 and row['vis_sect'] >= 3000:\n",
    "        return 'DAY HEMS VFR'\n",
    "    if row['vis_term'] >= 2000 and row['vis_sect'] >= 2000:\n",
    "        if row['ceil_term'] >= 400 and row['ceil_sect'] >= 400:\n",
    "            return 'DAY HEMS VFR'\n",
    "    if row['vis_term'] >= 500 and row['vis_sect'] >= 500:\n",
    "        if row['ceil_term'] >= 500 and row['ceil_sect'] >= 500:\n",
    "            return 'DAY HEMS VFR'\n",
    "    return 'DAY NO VFR'"
   ]
  },
  {
   "cell_type": "code",
   "execution_count": null,
   "metadata": {},
   "outputs": [],
   "source": [
    "efhk_ilzq['class'] = efhk_ilzq.apply(classify_hems, axis=1)"
   ]
  },
  {
   "cell_type": "code",
   "execution_count": null,
   "metadata": {},
   "outputs": [
    {
     "data": {
      "text/html": [
       "<div>\n",
       "<style scoped>\n",
       "    .dataframe tbody tr th:only-of-type {\n",
       "        vertical-align: middle;\n",
       "    }\n",
       "\n",
       "    .dataframe tbody tr th {\n",
       "        vertical-align: top;\n",
       "    }\n",
       "\n",
       "    .dataframe thead th {\n",
       "        text-align: right;\n",
       "    }\n",
       "</style>\n",
       "<table border=\"1\" class=\"dataframe\">\n",
       "  <thead>\n",
       "    <tr style=\"text-align: right;\">\n",
       "      <th></th>\n",
       "      <th>temp_term</th>\n",
       "      <th>vis_term</th>\n",
       "      <th>rvr_term</th>\n",
       "      <th>ceil_term</th>\n",
       "      <th>base_term</th>\n",
       "      <th>metar_term</th>\n",
       "      <th>temp_sect</th>\n",
       "      <th>vis_sect</th>\n",
       "      <th>ceil_sect</th>\n",
       "      <th>base_sect</th>\n",
       "      <th>night</th>\n",
       "      <th>metar_sect</th>\n",
       "      <th>class</th>\n",
       "    </tr>\n",
       "    <tr>\n",
       "      <th>time</th>\n",
       "      <th></th>\n",
       "      <th></th>\n",
       "      <th></th>\n",
       "      <th></th>\n",
       "      <th></th>\n",
       "      <th></th>\n",
       "      <th></th>\n",
       "      <th></th>\n",
       "      <th></th>\n",
       "      <th></th>\n",
       "      <th></th>\n",
       "      <th></th>\n",
       "      <th></th>\n",
       "    </tr>\n",
       "  </thead>\n",
       "  <tbody>\n",
       "    <tr>\n",
       "      <th>2021-01-01 00:20:00</th>\n",
       "      <td>0</td>\n",
       "      <td>700</td>\n",
       "      <td>2000</td>\n",
       "      <td>200</td>\n",
       "      <td>200</td>\n",
       "      <td>EFHK 010020Z 21002KT 0700 R04L/P2000N R15/1400...</td>\n",
       "      <td>0</td>\n",
       "      <td>1800</td>\n",
       "      <td>9999</td>\n",
       "      <td>400</td>\n",
       "      <td>True</td>\n",
       "      <td>ILZQ 010020Z AUTO 23003KT 1800 BR ////// M00/M...</td>\n",
       "      <td>NIGHT</td>\n",
       "    </tr>\n",
       "    <tr>\n",
       "      <th>2021-01-01 00:40:00</th>\n",
       "      <td>0</td>\n",
       "      <td>700</td>\n",
       "      <td>2000</td>\n",
       "      <td>200</td>\n",
       "      <td>200</td>\n",
       "      <td>EFHK 010020Z 21002KT 0700 R04L/P2000N R15/1400...</td>\n",
       "      <td>0</td>\n",
       "      <td>1700</td>\n",
       "      <td>9999</td>\n",
       "      <td>400</td>\n",
       "      <td>True</td>\n",
       "      <td>ILZQ 010040Z AUTO 22003KT 1700 BR ////// M00/M...</td>\n",
       "      <td>NIGHT</td>\n",
       "    </tr>\n",
       "    <tr>\n",
       "      <th>2021-01-01 00:50:00</th>\n",
       "      <td>0</td>\n",
       "      <td>1400</td>\n",
       "      <td>2000</td>\n",
       "      <td>200</td>\n",
       "      <td>200</td>\n",
       "      <td>EFHK 010050Z 20002KT 1400 R04L/P2000N R15/P200...</td>\n",
       "      <td>0</td>\n",
       "      <td>1800</td>\n",
       "      <td>9999</td>\n",
       "      <td>400</td>\n",
       "      <td>True</td>\n",
       "      <td>ILZQ 010050Z AUTO 23003KT 1800 BR ////// M00/M...</td>\n",
       "      <td>NIGHT</td>\n",
       "    </tr>\n",
       "    <tr>\n",
       "      <th>2021-01-01 01:00:00</th>\n",
       "      <td>0</td>\n",
       "      <td>1400</td>\n",
       "      <td>2000</td>\n",
       "      <td>200</td>\n",
       "      <td>200</td>\n",
       "      <td>EFHK 010050Z 20002KT 1400 R04L/P2000N R15/P200...</td>\n",
       "      <td>0</td>\n",
       "      <td>2500</td>\n",
       "      <td>9999</td>\n",
       "      <td>400</td>\n",
       "      <td>True</td>\n",
       "      <td>ILZQ 010100Z AUTO 22003KT 2500 BR ////// M00/M...</td>\n",
       "      <td>NIGHT</td>\n",
       "    </tr>\n",
       "    <tr>\n",
       "      <th>2021-01-01 01:10:00</th>\n",
       "      <td>0</td>\n",
       "      <td>1400</td>\n",
       "      <td>2000</td>\n",
       "      <td>200</td>\n",
       "      <td>200</td>\n",
       "      <td>EFHK 010050Z 20002KT 1400 R04L/P2000N R15/P200...</td>\n",
       "      <td>0</td>\n",
       "      <td>4100</td>\n",
       "      <td>9999</td>\n",
       "      <td>400</td>\n",
       "      <td>True</td>\n",
       "      <td>ILZQ 010110Z AUTO 22002KT 4100 BR ////// M00/M...</td>\n",
       "      <td>NIGHT</td>\n",
       "    </tr>\n",
       "    <tr>\n",
       "      <th>...</th>\n",
       "      <td>...</td>\n",
       "      <td>...</td>\n",
       "      <td>...</td>\n",
       "      <td>...</td>\n",
       "      <td>...</td>\n",
       "      <td>...</td>\n",
       "      <td>...</td>\n",
       "      <td>...</td>\n",
       "      <td>...</td>\n",
       "      <td>...</td>\n",
       "      <td>...</td>\n",
       "      <td>...</td>\n",
       "      <td>...</td>\n",
       "    </tr>\n",
       "    <tr>\n",
       "      <th>2021-12-03 09:40:00</th>\n",
       "      <td>-12</td>\n",
       "      <td>9000</td>\n",
       "      <td>9999</td>\n",
       "      <td>9999</td>\n",
       "      <td>400</td>\n",
       "      <td>EFHK 030920Z 36007KT 9000 -SN FEW004 M12/M13 Q...</td>\n",
       "      <td>-13</td>\n",
       "      <td>8000</td>\n",
       "      <td>1800</td>\n",
       "      <td>400</td>\n",
       "      <td>False</td>\n",
       "      <td>ILZQ 030940Z AUTO 36006KT 8000 -SN OVC018 M13/...</td>\n",
       "      <td>DAY HEMS VFR</td>\n",
       "    </tr>\n",
       "    <tr>\n",
       "      <th>2021-12-03 09:50:00</th>\n",
       "      <td>-12</td>\n",
       "      <td>10000</td>\n",
       "      <td>9999</td>\n",
       "      <td>9999</td>\n",
       "      <td>400</td>\n",
       "      <td>EFHK 030950Z 36008KT 9999 -SN FEW004 SCT022 M1...</td>\n",
       "      <td>-13</td>\n",
       "      <td>4600</td>\n",
       "      <td>1800</td>\n",
       "      <td>400</td>\n",
       "      <td>False</td>\n",
       "      <td>ILZQ 030950Z AUTO 36004KT 4600 -SN OVC018 M13/...</td>\n",
       "      <td>DAY HEMS VFR</td>\n",
       "    </tr>\n",
       "    <tr>\n",
       "      <th>2021-12-03 10:00:00</th>\n",
       "      <td>-12</td>\n",
       "      <td>10000</td>\n",
       "      <td>9999</td>\n",
       "      <td>9999</td>\n",
       "      <td>400</td>\n",
       "      <td>EFHK 030950Z 36008KT 9999 -SN FEW004 SCT022 M1...</td>\n",
       "      <td>-12</td>\n",
       "      <td>5000</td>\n",
       "      <td>1700</td>\n",
       "      <td>400</td>\n",
       "      <td>False</td>\n",
       "      <td>ILZQ 031000Z AUTO 36004KT 5000 -SN OVC017 M12/...</td>\n",
       "      <td>DAY HEMS VFR</td>\n",
       "    </tr>\n",
       "    <tr>\n",
       "      <th>2021-12-03 10:10:00</th>\n",
       "      <td>-12</td>\n",
       "      <td>10000</td>\n",
       "      <td>9999</td>\n",
       "      <td>9999</td>\n",
       "      <td>400</td>\n",
       "      <td>EFHK 030950Z 36008KT 9999 -SN FEW004 SCT022 M1...</td>\n",
       "      <td>-12</td>\n",
       "      <td>6000</td>\n",
       "      <td>1700</td>\n",
       "      <td>400</td>\n",
       "      <td>False</td>\n",
       "      <td>ILZQ 031010Z AUTO 36005KT 6000 -SN OVC017 M12/...</td>\n",
       "      <td>DAY HEMS VFR</td>\n",
       "    </tr>\n",
       "    <tr>\n",
       "      <th>2021-12-03 10:20:00</th>\n",
       "      <td>-12</td>\n",
       "      <td>10000</td>\n",
       "      <td>9999</td>\n",
       "      <td>2300</td>\n",
       "      <td>400</td>\n",
       "      <td>EFHK 031020Z 01010KT 9999 -SN BKN023 M12/M14 Q...</td>\n",
       "      <td>-12</td>\n",
       "      <td>10000</td>\n",
       "      <td>1500</td>\n",
       "      <td>400</td>\n",
       "      <td>False</td>\n",
       "      <td>ILZQ 031020Z AUTO 35004KT 9999 -SN OVC015 M12/...</td>\n",
       "      <td>DAY HEMS VFR</td>\n",
       "    </tr>\n",
       "  </tbody>\n",
       "</table>\n",
       "<p>45224 rows × 13 columns</p>\n",
       "</div>"
      ],
      "text/plain": [
       "                     temp_term  vis_term  rvr_term  ceil_term  base_term  \\\n",
       "time                                                                       \n",
       "2021-01-01 00:20:00          0       700      2000        200        200   \n",
       "2021-01-01 00:40:00          0       700      2000        200        200   \n",
       "2021-01-01 00:50:00          0      1400      2000        200        200   \n",
       "2021-01-01 01:00:00          0      1400      2000        200        200   \n",
       "2021-01-01 01:10:00          0      1400      2000        200        200   \n",
       "...                        ...       ...       ...        ...        ...   \n",
       "2021-12-03 09:40:00        -12      9000      9999       9999        400   \n",
       "2021-12-03 09:50:00        -12     10000      9999       9999        400   \n",
       "2021-12-03 10:00:00        -12     10000      9999       9999        400   \n",
       "2021-12-03 10:10:00        -12     10000      9999       9999        400   \n",
       "2021-12-03 10:20:00        -12     10000      9999       2300        400   \n",
       "\n",
       "                                                            metar_term  \\\n",
       "time                                                                     \n",
       "2021-01-01 00:20:00  EFHK 010020Z 21002KT 0700 R04L/P2000N R15/1400...   \n",
       "2021-01-01 00:40:00  EFHK 010020Z 21002KT 0700 R04L/P2000N R15/1400...   \n",
       "2021-01-01 00:50:00  EFHK 010050Z 20002KT 1400 R04L/P2000N R15/P200...   \n",
       "2021-01-01 01:00:00  EFHK 010050Z 20002KT 1400 R04L/P2000N R15/P200...   \n",
       "2021-01-01 01:10:00  EFHK 010050Z 20002KT 1400 R04L/P2000N R15/P200...   \n",
       "...                                                                ...   \n",
       "2021-12-03 09:40:00  EFHK 030920Z 36007KT 9000 -SN FEW004 M12/M13 Q...   \n",
       "2021-12-03 09:50:00  EFHK 030950Z 36008KT 9999 -SN FEW004 SCT022 M1...   \n",
       "2021-12-03 10:00:00  EFHK 030950Z 36008KT 9999 -SN FEW004 SCT022 M1...   \n",
       "2021-12-03 10:10:00  EFHK 030950Z 36008KT 9999 -SN FEW004 SCT022 M1...   \n",
       "2021-12-03 10:20:00  EFHK 031020Z 01010KT 9999 -SN BKN023 M12/M14 Q...   \n",
       "\n",
       "                     temp_sect  vis_sect  ceil_sect  base_sect  night  \\\n",
       "time                                                                    \n",
       "2021-01-01 00:20:00          0      1800       9999        400   True   \n",
       "2021-01-01 00:40:00          0      1700       9999        400   True   \n",
       "2021-01-01 00:50:00          0      1800       9999        400   True   \n",
       "2021-01-01 01:00:00          0      2500       9999        400   True   \n",
       "2021-01-01 01:10:00          0      4100       9999        400   True   \n",
       "...                        ...       ...        ...        ...    ...   \n",
       "2021-12-03 09:40:00        -13      8000       1800        400  False   \n",
       "2021-12-03 09:50:00        -13      4600       1800        400  False   \n",
       "2021-12-03 10:00:00        -12      5000       1700        400  False   \n",
       "2021-12-03 10:10:00        -12      6000       1700        400  False   \n",
       "2021-12-03 10:20:00        -12     10000       1500        400  False   \n",
       "\n",
       "                                                            metar_sect  \\\n",
       "time                                                                     \n",
       "2021-01-01 00:20:00  ILZQ 010020Z AUTO 23003KT 1800 BR ////// M00/M...   \n",
       "2021-01-01 00:40:00  ILZQ 010040Z AUTO 22003KT 1700 BR ////// M00/M...   \n",
       "2021-01-01 00:50:00  ILZQ 010050Z AUTO 23003KT 1800 BR ////// M00/M...   \n",
       "2021-01-01 01:00:00  ILZQ 010100Z AUTO 22003KT 2500 BR ////// M00/M...   \n",
       "2021-01-01 01:10:00  ILZQ 010110Z AUTO 22002KT 4100 BR ////// M00/M...   \n",
       "...                                                                ...   \n",
       "2021-12-03 09:40:00  ILZQ 030940Z AUTO 36006KT 8000 -SN OVC018 M13/...   \n",
       "2021-12-03 09:50:00  ILZQ 030950Z AUTO 36004KT 4600 -SN OVC018 M13/...   \n",
       "2021-12-03 10:00:00  ILZQ 031000Z AUTO 36004KT 5000 -SN OVC017 M12/...   \n",
       "2021-12-03 10:10:00  ILZQ 031010Z AUTO 36005KT 6000 -SN OVC017 M12/...   \n",
       "2021-12-03 10:20:00  ILZQ 031020Z AUTO 35004KT 9999 -SN OVC015 M12/...   \n",
       "\n",
       "                            class  \n",
       "time                               \n",
       "2021-01-01 00:20:00         NIGHT  \n",
       "2021-01-01 00:40:00         NIGHT  \n",
       "2021-01-01 00:50:00         NIGHT  \n",
       "2021-01-01 01:00:00         NIGHT  \n",
       "2021-01-01 01:10:00         NIGHT  \n",
       "...                           ...  \n",
       "2021-12-03 09:40:00  DAY HEMS VFR  \n",
       "2021-12-03 09:50:00  DAY HEMS VFR  \n",
       "2021-12-03 10:00:00  DAY HEMS VFR  \n",
       "2021-12-03 10:10:00  DAY HEMS VFR  \n",
       "2021-12-03 10:20:00  DAY HEMS VFR  \n",
       "\n",
       "[45224 rows x 13 columns]"
      ]
     },
     "execution_count": 148,
     "metadata": {},
     "output_type": "execute_result"
    }
   ],
   "source": [
    "efhk_ilzq"
   ]
  },
  {
   "cell_type": "code",
   "execution_count": null,
   "metadata": {},
   "outputs": [],
   "source": [
    "efhk_ilzq.to_csv('output/efhk_ilzq.csv', sep=';')"
   ]
  },
  {
   "cell_type": "code",
   "execution_count": null,
   "metadata": {},
   "outputs": [],
   "source": [
    "efhk_ilzq.to_excel('output/efhk_ilzq.xlsx')"
   ]
  },
  {
   "cell_type": "code",
   "execution_count": null,
   "metadata": {},
   "outputs": [
    {
     "data": {
      "text/plain": [
       "DAY HEMS VFR    26811\n",
       "NIGHT           17487\n",
       "NO VFR            926\n",
       "Name: class, dtype: int64"
      ]
     },
     "execution_count": 151,
     "metadata": {},
     "output_type": "execute_result"
    }
   ],
   "source": [
    "efhk_ilzq['class'].value_counts()"
   ]
  }
 ],
 "metadata": {
  "interpreter": {
   "hash": "e2378863ffe1dcf4577d6ced90accd9caaf84e395cbb0f158c17fac025349c3a"
  },
  "kernelspec": {
   "display_name": "Python 3.10.1 64-bit ('hems': conda)",
   "language": "python",
   "name": "python3"
  },
  "language_info": {
   "codemirror_mode": {
    "name": "ipython",
    "version": 3
   },
   "file_extension": ".py",
   "mimetype": "text/x-python",
   "name": "python",
   "nbconvert_exporter": "python",
   "pygments_lexer": "ipython3",
   "version": "3.10.1"
  },
  "orig_nbformat": 4
 },
 "nbformat": 4,
 "nbformat_minor": 2
}
